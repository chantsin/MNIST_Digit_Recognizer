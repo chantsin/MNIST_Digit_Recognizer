{
 "cells": [
  {
   "cell_type": "markdown",
   "id": "8b6735e0-9d2d-4957-a88a-a520bdc4f377",
   "metadata": {},
   "source": [
    "# MNIST Digit Recognizer - Simple Neural Network Classification\n",
    "\n",
    "**Authors: Clement, Calvin, Tilova**\n",
    "\n",
    "---\n",
    "\n",
    "Welcome to the second notebook by **Tequila Chicas**! We will be classifying images of hand written numbers to their corresponding digits. This project follows the guidelines and uses the data set provide from the Kaggle Competition [here](https://www.kaggle.com/competitions/digit-recognizer/overview). \n",
    "\n",
    "## Introduction  \n",
    "\n",
    "In this notebook we will be fitting the dataset in a simple neural network to see how well we can predict the digits of the MNIST Dataset."
   ]
  },
  {
   "cell_type": "markdown",
   "id": "54e87ed1-9831-4c4c-8676-59ac62889490",
   "metadata": {},
   "source": [
    "<a id = 'toc'></a>\n",
    "    \n",
    "## Table of Contents\n",
    "---\n",
    "1. [Simple Neural Network](#simple)"
   ]
  },
  {
   "cell_type": "markdown",
   "id": "b71f3c5d-4e95-49bb-96b4-3323428d4c3a",
   "metadata": {},
   "source": [
    "**Importing Libraries**"
   ]
  },
  {
   "cell_type": "code",
   "execution_count": 59,
   "id": "ea50e368-24e3-485d-a786-9798f850b062",
   "metadata": {
    "tags": []
   },
   "outputs": [],
   "source": [
    "import numpy as np\n",
    "import pandas as pd\n",
    "\n",
    "# data visualization\n",
    "import matplotlib.pyplot as plt\n",
    "import seaborn as sns\n",
    "\n",
    "# Train_Test_Split\n",
    "from sklearn.model_selection import train_test_split\n",
    "\n",
    "# Scaling\n",
    "from sklearn.preprocessing import StandardScaler\n",
    "\n",
    "# Metrics\n",
    "from sklearn.metrics import accuracy_score\n",
    "\n",
    "# PyTorch\n",
    "import torch\n",
    "import torch.nn as nn\n",
    "from torch.utils.data import TensorDataset, DataLoader\n",
    "\n",
    "# Progress bar from tqdm\n",
    "from tqdm.notebook import trange\n",
    "from tqdm.notebook import tnrange\n",
    "\n",
    "# ignores the filter warnings\n",
    "import warnings\n",
    "warnings.filterwarnings('ignore')"
   ]
  },
  {
   "cell_type": "markdown",
   "id": "28eae939-7fcd-4909-a5fe-8ddc8a26dff9",
   "metadata": {},
   "source": [
    "<a id = 'simple'></a>\n",
    "### 1. Simple Neural Network\n",
    "---\n",
    "Loading the test and train set CSVs files."
   ]
  },
  {
   "cell_type": "code",
   "execution_count": 60,
   "id": "9a7d56f0-856b-469b-81cc-999fe80a3334",
   "metadata": {
    "tags": []
   },
   "outputs": [
    {
     "data": {
      "text/plain": [
       "((42000, 785), (28000, 784))"
      ]
     },
     "execution_count": 60,
     "metadata": {},
     "output_type": "execute_result"
    }
   ],
   "source": [
    "df_train = pd.read_csv('../data/train.csv')\n",
    "df_test = pd.read_csv('../data/test.csv')\n",
    "df_train.shape, df_test.shape"
   ]
  },
  {
   "cell_type": "markdown",
   "id": "021cbd2c-551e-4443-ac62-8a6b2d612781",
   "metadata": {},
   "source": [
    "We need to set our independent (X) and dependent (y) variables as `numpy arrays` from the dataset."
   ]
  },
  {
   "cell_type": "code",
   "execution_count": 61,
   "id": "d88b6f43-3a51-458a-9d97-0d613afaf38f",
   "metadata": {
    "tags": []
   },
   "outputs": [
    {
     "name": "stdout",
     "output_type": "stream",
     "text": [
      "(42000, 784) (42000,)\n"
     ]
    }
   ],
   "source": [
    "X = df_train.iloc[:, 1:].to_numpy()\n",
    "y = df_train.iloc[:, 0].to_numpy()\n",
    "\n",
    "# sanity check\n",
    "print(X.shape, y.shape)"
   ]
  },
  {
   "cell_type": "markdown",
   "id": "384f7d04-5111-4feb-bde0-9d5851db193c",
   "metadata": {},
   "source": [
    "We will perform a **train_test_split()** to split our dataset into train and validation sets.\n",
    "- Validation size of 25% of the data.\n",
    "- Stratify=y to make sure distribution of the classes remain the same in both training and validation set."
   ]
  },
  {
   "cell_type": "code",
   "execution_count": 62,
   "id": "88dce51b-7e1e-42c3-ad70-236e6944d053",
   "metadata": {
    "tags": []
   },
   "outputs": [
    {
     "data": {
      "text/plain": [
       "((31500, 784), (31500,))"
      ]
     },
     "execution_count": 62,
     "metadata": {},
     "output_type": "execute_result"
    }
   ],
   "source": [
    "X_train, X_val, y_train, y_val = train_test_split(X, y, test_size=0.25, stratify=y)\n",
    "X_train.shape, y_train.shape"
   ]
  },
  {
   "cell_type": "markdown",
   "id": "b95d4afe-4c59-43d1-a8f7-de1fd9ff28f0",
   "metadata": {},
   "source": [
    "We can start by implementing a simple `linear` network.\n",
    "- Since it's linear, we would obtain better results when scaling the data."
   ]
  },
  {
   "cell_type": "code",
   "execution_count": 63,
   "id": "522e4ca3-6570-493c-b913-c19b6175863a",
   "metadata": {
    "tags": []
   },
   "outputs": [],
   "source": [
    "# instantiate standard scaler\n",
    "ss = StandardScaler()\n",
    "\n",
    "# fit and transform training\n",
    "X_train = ss.fit_transform(X_train)\n",
    "\n",
    "# ONLY transform X_val\n",
    "X_val = ss.transform(X_val)"
   ]
  },
  {
   "cell_type": "markdown",
   "id": "0ef78205-6ad4-481d-9320-61c3a5708aeb",
   "metadata": {},
   "source": [
    "Now we need to convert the 1-D `arrays` into torch `tensors`\n",
    "- Using float32 to cut down memory usage\n",
    "- Using torch.long for classification labels."
   ]
  },
  {
   "cell_type": "code",
   "execution_count": 64,
   "id": "f59cd247-d25c-4573-b972-010c423e6cfa",
   "metadata": {
    "tags": []
   },
   "outputs": [
    {
     "name": "stdout",
     "output_type": "stream",
     "text": [
      "torch.Size([31500, 784]) torch.Size([31500]) torch.Size([10500, 784]) torch.Size([10500])\n"
     ]
    }
   ],
   "source": [
    "# Independent Variables\n",
    "X_train = torch.tensor(X_train, dtype=torch.float32)\n",
    "X_val = torch.tensor(X_val, dtype=torch.float32)\n",
    "\n",
    "# Dependent Variable\n",
    "y_train = torch.tensor(y_train, dtype=torch.long)\n",
    "y_val = torch.tensor(y_val, dtype=torch.long)\n",
    "\n",
    "# Sanity Check\n",
    "print(X_train.shape, y_train.shape, X_val.shape, y_val.shape)"
   ]
  },
  {
   "cell_type": "code",
   "execution_count": 8,
   "id": "53a452c1-b839-474d-9f9c-e6a6fc57991f",
   "metadata": {
    "tags": []
   },
   "outputs": [
    {
     "data": {
      "text/plain": [
       "Sequential(\n",
       "  (0): Linear(in_features=784, out_features=200, bias=True)\n",
       "  (1): ReLU()\n",
       "  (2): Linear(in_features=200, out_features=50, bias=True)\n",
       "  (3): ReLU()\n",
       "  (4): Linear(in_features=50, out_features=10, bias=True)\n",
       ")"
      ]
     },
     "execution_count": 8,
     "metadata": {},
     "output_type": "execute_result"
    }
   ],
   "source": [
    "# Simple neural net layers\n",
    "simple_neural_net = nn.Sequential(\n",
    "    nn.Linear(784, 200),\n",
    "    nn.ReLU(),\n",
    "    nn.Linear(200, 50),\n",
    "    nn.ReLU(),\n",
    "    nn.Linear(50, 10)\n",
    "    )\n",
    "simple_neural_net"
   ]
  },
  {
   "cell_type": "code",
   "execution_count": 9,
   "id": "d2f35b68-fa74-4313-b30d-6ff2924982d1",
   "metadata": {
    "tags": []
   },
   "outputs": [
    {
     "name": "stdout",
     "output_type": "stream",
     "text": [
      "Old loss: 2.3218276500701904\n",
      "New loss: 2.239776372909546\n"
     ]
    }
   ],
   "source": [
    "# Creating a single row\n",
    "single_row = X_train[[0], :]\n",
    "single_target = y_train[[0]]\n",
    "\n",
    "\n",
    "# Instantiate Optimizer\n",
    "optimizer = torch.optim.SGD(simple_neural_net.parameters(), lr=0.01)\n",
    "\n",
    "#### Forward pass ####\n",
    "output_values = simple_neural_net(single_row)\n",
    "\n",
    "# Cross Entropy Loss\n",
    "cross_entropy_loss = nn.CrossEntropyLoss()\n",
    "loss = cross_entropy_loss(output_values, single_target)\n",
    "\n",
    "#### Backward pass ####\n",
    "loss.backward()\n",
    "\n",
    "# Update Weights\n",
    "optimizer.step()\n",
    "\n",
    "# New Outputs\n",
    "new_output = simple_neural_net(single_row)\n",
    "new_loss = cross_entropy_loss(new_output, single_target)\n",
    "\n",
    "# Comparing old and new loss\n",
    "print(f\"Old loss: {loss}\\nNew loss: {new_loss}\")"
   ]
  },
  {
   "cell_type": "markdown",
   "id": "d3444a28-789c-4f20-9f08-c85278d63a69",
   "metadata": {},
   "source": [
    "Now let's implement our PyTorch model through object oriented programming. We make sure to define a class that inherits from the PyTorch `module` class. "
   ]
  },
  {
   "cell_type": "code",
   "execution_count": 443,
   "id": "2349e195-570a-4640-9cdf-50f02153a870",
   "metadata": {
    "tags": []
   },
   "outputs": [],
   "source": [
    "class SimpleNN(nn.Module):\n",
    "    \"\"\"Basic multi-layer architecture.\"\"\"\n",
    "\n",
    "    def __init__(self):\n",
    "        \"\"\"Define the main components of the network\"\"\"\n",
    "        super(SimpleNN, self).__init__()\n",
    "\n",
    "        self.neural_net = nn.Sequential(\n",
    "            nn.Linear(784, 256),\n",
    "            nn.BatchNorm1d(256),\n",
    "            nn.ReLU(),\n",
    "            nn.Dropout(p=0.5),\n",
    "            nn.Linear(256, 64),\n",
    "            nn.BatchNorm1d(64),\n",
    "            nn.ReLU(),\n",
    "            nn.Dropout(p=0.5),\n",
    "            nn.Linear(64, 10)\n",
    "            )\n",
    "    \n",
    "    def forward(self, x):\n",
    "        \"\"\"Perform forward pass.\"\"\"\n",
    "        \n",
    "        output = self.neural_net(x)\n",
    "        \n",
    "        return output\n",
    "\n",
    "    def predict(self, x):\n",
    "        '''\n",
    "        The class based interface allows you\n",
    "        add your own functionality, like a familiar\n",
    "        .predict method we all know and love\n",
    "        '''\n",
    "\n",
    "        # Predict class probabilities\n",
    "        predictions = self.forward(x)\n",
    "\n",
    "        # Find highest class prediction, notice we don't need to convert to\n",
    "        # probabilities to do hard predictions, we can simply choose the\n",
    "        # highest values\n",
    "        hard_class_predictions = torch.argmax(predictions, dim=1)\n",
    "\n",
    "        return hard_class_predictions"
   ]
  },
  {
   "cell_type": "code",
   "execution_count": 457,
   "id": "45b71c5f",
   "metadata": {},
   "outputs": [],
   "source": [
    "####### Setting batch size #######\n",
    "batch_size = 256 \n",
    "\n",
    "# Shuffle training set\n",
    "training_loader = DataLoader(TensorDataset(X_train, y_train), batch_size=batch_size, shuffle=True)\n",
    "\n",
    "# Don't shuffle validation set\n",
    "validation_loader = DataLoader(TensorDataset(X_val, y_val), batch_size=batch_size, shuffle=False)"
   ]
  },
  {
   "cell_type": "code",
   "execution_count": 463,
   "id": "32169d58-0992-48a3-8f6a-b4cdb1febc77",
   "metadata": {
    "tags": []
   },
   "outputs": [],
   "source": [
    "####### Parameters #######\n",
    "lr = 0.0001\n",
    "# momentum = 0.9\n",
    "\n",
    "# Instantiate the model, the loss criterion, and the optimizer\n",
    "NN_model = SimpleNN()\n",
    "\n",
    "cross_entropy_loss = nn.CrossEntropyLoss() # this includes the softmax\n",
    "optimizer = torch.optim.Adam(NN_model.parameters(), lr=lr, weight_decay=0.01)"
   ]
  },
  {
   "cell_type": "code",
   "execution_count": 464,
   "id": "5485e8fc",
   "metadata": {
    "scrolled": true,
    "tags": []
   },
   "outputs": [
    {
     "data": {
      "application/vnd.jupyter.widget-view+json": {
       "model_id": "c2487c3fafe94d76afd06df739d0d142",
       "version_major": 2,
       "version_minor": 0
      },
      "text/plain": [
       "Total epochs:   0%|          | 0/40 [00:00<?, ?it/s]"
      ]
     },
     "metadata": {},
     "output_type": "display_data"
    },
    {
     "name": "stdout",
     "output_type": "stream",
     "text": [
      "EPOCH 1:\n",
      "LOSS train 230.02122569084167 valid 9.813517570495605\n",
      "EPOCH 2:\n",
      "LOSS train 163.1432912349701 valid 10.2577543258667\n",
      "EPOCH 3:\n",
      "LOSS train 131.40377753973007 valid 13.790443420410156\n",
      "EPOCH 4:\n",
      "LOSS train 111.55551546812057 valid 13.550986289978027\n",
      "EPOCH 5:\n",
      "LOSS train 97.43248748779297 valid 14.059492111206055\n",
      "EPOCH 6:\n",
      "LOSS train 86.32685202360153 valid 10.994544982910156\n",
      "EPOCH 7:\n",
      "LOSS train 78.57014018297195 valid 11.589845657348633\n",
      "EPOCH 8:\n",
      "LOSS train 71.40386095643044 valid 10.031144142150879\n",
      "EPOCH 9:\n",
      "LOSS train 67.02849105000496 valid 8.446317672729492\n",
      "EPOCH 10:\n",
      "LOSS train 62.77581503987312 valid 7.852224349975586\n",
      "EPOCH 11:\n",
      "LOSS train 59.06021973490715 valid 7.0515828132629395\n",
      "EPOCH 12:\n",
      "LOSS train 56.849258214235306 valid 5.80142068862915\n",
      "EPOCH 13:\n",
      "LOSS train 54.12352627515793 valid 4.808329105377197\n",
      "EPOCH 14:\n",
      "LOSS train 51.300347954034805 valid 4.897988319396973\n",
      "EPOCH 15:\n",
      "LOSS train 49.053183645009995 valid 4.616078853607178\n",
      "EPOCH 16:\n",
      "LOSS train 46.83003228902817 valid 4.115509986877441\n",
      "EPOCH 17:\n",
      "LOSS train 45.66356235742569 valid 3.8476521968841553\n",
      "EPOCH 18:\n",
      "LOSS train 44.59790414571762 valid 3.850466728210449\n",
      "EPOCH 19:\n",
      "LOSS train 42.359398767352104 valid 3.5351250171661377\n",
      "EPOCH 20:\n",
      "LOSS train 41.15649124979973 valid 3.4942739009857178\n",
      "EPOCH 21:\n",
      "LOSS train 39.85174407064915 valid 3.180598735809326\n",
      "EPOCH 22:\n",
      "LOSS train 38.969952166080475 valid 3.333582639694214\n",
      "EPOCH 23:\n",
      "LOSS train 38.83342146873474 valid 3.154613733291626\n",
      "EPOCH 24:\n",
      "LOSS train 39.025153294205666 valid 3.079589366912842\n",
      "EPOCH 25:\n",
      "LOSS train 37.87571981549263 valid 3.022263765335083\n",
      "EPOCH 26:\n",
      "LOSS train 35.95665368437767 valid 3.014383316040039\n",
      "EPOCH 27:\n",
      "LOSS train 35.09729292988777 valid 3.1475536823272705\n",
      "EPOCH 28:\n",
      "LOSS train 34.94454701244831 valid 3.3973424434661865\n",
      "EPOCH 29:\n",
      "LOSS train 34.07582902908325 valid 2.9659316539764404\n",
      "EPOCH 30:\n",
      "LOSS train 34.32347744703293 valid 3.066568613052368\n",
      "EPOCH 31:\n",
      "LOSS train 33.49143286049366 valid 3.0468358993530273\n",
      "EPOCH 32:\n",
      "LOSS train 33.30720390379429 valid 2.7983014583587646\n",
      "EPOCH 33:\n",
      "LOSS train 32.392132833600044 valid 2.9411017894744873\n",
      "EPOCH 34:\n",
      "LOSS train 32.126895651221275 valid 2.9684791564941406\n",
      "EPOCH 35:\n",
      "LOSS train 32.07228364050388 valid 2.82926869392395\n",
      "EPOCH 36:\n",
      "LOSS train 31.389564476907253 valid 2.8091325759887695\n",
      "EPOCH 37:\n",
      "LOSS train 30.88659267127514 valid 3.0736472606658936\n",
      "EPOCH 38:\n",
      "LOSS train 31.36660973727703 valid 2.854511022567749\n",
      "EPOCH 39:\n",
      "LOSS train 30.58899936079979 valid 2.9745588302612305\n",
      "EPOCH 40:\n",
      "LOSS train 30.464570701122284 valid 2.822829484939575\n",
      "Optimization ended successfully\n"
     ]
    }
   ],
   "source": [
    "### COMMON PYTORCH RECIPE FOR TRAINING A NETWORK ###\n",
    "\n",
    "epoch_number = 0\n",
    "\n",
    "total_train_loss = []\n",
    "total_val_loss = []\n",
    "\n",
    "# Now run for 25 epochs\n",
    "for epoch in trange(40, desc=\"Total epochs: \"):\n",
    "    print('EPOCH {}:'.format(epoch_number + 1))\n",
    "    \n",
    "    ##### Training #####\n",
    "    running_loss = 0\n",
    "    last_loss = 0\n",
    "    \n",
    "    NN_model.train(True)\n",
    "    \n",
    "    # Compute \n",
    "    for i, data in enumerate(training_loader):\n",
    "        \n",
    "        # Every data instance is an input + label pair\n",
    "        inputs, labels = data\n",
    "\n",
    "        # Zero your gradients for every batch!\n",
    "        optimizer.zero_grad()\n",
    "\n",
    "        # Make predictions for this batch\n",
    "        outputs = NN_model(inputs)\n",
    "\n",
    "        # Compute the loss and its gradients\n",
    "        loss = cross_entropy_loss(outputs, labels)\n",
    "        loss.backward()\n",
    "\n",
    "        # Adjust learning weights\n",
    "        optimizer.step()\n",
    "\n",
    "        # Gather data \n",
    "        running_loss += loss.item()\n",
    "\n",
    "    total_train_loss.append(running_loss)\n",
    "    \n",
    "    ##### Validation #####\n",
    "    running_vloss = 0.0\n",
    "    \n",
    "    # Set the model to evaluation mode, disabling dropout and using population\n",
    "    # statistics for batch normalization.\n",
    "    NN_model.eval()\n",
    "\n",
    "    # Disable gradient computation and reduce memory consumption.\n",
    "    with torch.no_grad():\n",
    "        for i, vdata in enumerate(validation_loader):\n",
    "            vinputs, vlabels = vdata\n",
    "            voutputs = NN_model(vinputs)\n",
    "            vloss = cross_entropy_loss(voutputs, vlabels)\n",
    "            running_vloss += vloss\n",
    "\n",
    "    avg_vloss = running_vloss / (i + 1)\n",
    "    total_val_loss.append(avg_vloss)\n",
    "    \n",
    "    epoch_number += 1\n",
    "    \n",
    "    print('LOSS train {} valid {}'.format(running_loss, avg_vloss))\n",
    "\n",
    "print(f\"Optimization ended successfully\")"
   ]
  },
  {
   "cell_type": "code",
   "execution_count": 465,
   "id": "8f361af1",
   "metadata": {
    "tags": []
   },
   "outputs": [
    {
     "name": "stdout",
     "output_type": "stream",
     "text": [
      "Accuracy score on train set: 98.2%\n"
     ]
    }
   ],
   "source": [
    "# Make predictions\n",
    "binary_classification = NN_model.predict(X_train)\n",
    "\n",
    "# Calculate the score on the test set\n",
    "accuracy = accuracy_score(y_train, binary_classification)\n",
    "print(f\"Accuracy score on train set: {round(accuracy * 100, 2)}%\")"
   ]
  },
  {
   "cell_type": "code",
   "execution_count": 466,
   "id": "bd0ba3a4-fd43-41ce-aa0d-7d2dba34eb5b",
   "metadata": {
    "tags": []
   },
   "outputs": [
    {
     "name": "stdout",
     "output_type": "stream",
     "text": [
      "Accuracy score on test set: 95.25%\n"
     ]
    }
   ],
   "source": [
    "# Make predictions\n",
    "binary_classification = NN_model.predict(X_val)\n",
    "\n",
    "# Calculate the score on the test set\n",
    "accuracy = accuracy_score(y_val, binary_classification)\n",
    "print(f\"Accuracy score on test set: {round(accuracy * 100, 2)}%\")"
   ]
  },
  {
   "cell_type": "code",
   "execution_count": 468,
   "id": "d30c2195",
   "metadata": {},
   "outputs": [
    {
     "data": {
      "image/png": "[encoded data removed]",
      "text/plain": [
       "<Figure size 640x480 with 1 Axes>"
      ]
     },
     "metadata": {},
     "output_type": "display_data"
    }
   ],
   "source": [
    "plt.figure()\n",
    "plt.plot(total_train_loss, label=\"Training Loss\")\n",
    "plt.plot(total_val_loss, label=\"Validation Loss\")\n",
    "plt.title(\"Training and Validation Loss\")\n",
    "plt.xlabel(\"Epoch\")\n",
    "plt.ylabel(\"Loss\")\n",
    "plt.legend()\n",
    "plt.show()"
   ]
  },
  {
   "cell_type": "markdown",
   "id": "fa9d5d37",
   "metadata": {},
   "source": [
    "> Validation loss is lower than training loss possibly because of our dropout layers."
   ]
  },
  {
   "cell_type": "code",
   "execution_count": null,
   "id": "6e08e825",
   "metadata": {},
   "outputs": [],
   "source": []
  }
 ],
 "metadata": {
  "kernelspec": {
   "display_name": "deeplearning",
   "language": "python",
   "name": "deeplearning"
  },
  "language_info": {
   "codemirror_mode": {
    "name": "ipython",
    "version": 3
   },
   "file_extension": ".py",
   "mimetype": "text/x-python",
   "name": "python",
   "nbconvert_exporter": "python",
   "pygments_lexer": "ipython3",
   "version": "3.10.1"
  }
 },
 "nbformat": 4,
 "nbformat_minor": 5
}

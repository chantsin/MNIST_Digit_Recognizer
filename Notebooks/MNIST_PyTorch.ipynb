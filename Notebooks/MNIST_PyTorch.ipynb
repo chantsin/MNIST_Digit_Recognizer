{
 "cells": [
  {
   "cell_type": "markdown",
   "id": "8b6735e0-9d2d-4957-a88a-a520bdc4f377",
   "metadata": {},
   "source": [
    "# MNIST Digit Recognizer - Simple Neural Network Classification\n",
    "\n",
    "**Authors: Clement, Calvin, Tilova**\n",
    "\n",
    "---\n",
    "\n",
    "Welcome to the second notebook by **Tequila Chicas**! We will be classifying images of hand written numbers to their corresponding digits. This project follows the guidelines and uses the data set provide from the Kaggle Competition [here](https://www.kaggle.com/competitions/digit-recognizer/overview). \n",
    "\n",
    "## Introduction  \n",
    "\n",
    "In this notebook we will be fitting the dataset in a simple neural network to see how well we can predict the digits of the MNIST Dataset."
   ]
  },
  {
   "cell_type": "markdown",
   "id": "54e87ed1-9831-4c4c-8676-59ac62889490",
   "metadata": {},
   "source": [
    "<a id = 'toc'></a>\n",
    "    \n",
    "## Table of Contents\n",
    "---\n",
    "1. [Simple Neural Network](#simple)"
   ]
  },
  {
   "cell_type": "markdown",
   "id": "b71f3c5d-4e95-49bb-96b4-3323428d4c3a",
   "metadata": {},
   "source": [
    "**Importing Libraries**"
   ]
  },
  {
   "cell_type": "code",
   "execution_count": 1,
   "id": "ea50e368-24e3-485d-a786-9798f850b062",
   "metadata": {
    "tags": []
   },
   "outputs": [],
   "source": [
    "import numpy as np\n",
    "import pandas as pd\n",
    "\n",
    "# data visualization\n",
    "import matplotlib.pyplot as plt\n",
    "import seaborn as sns\n",
    "\n",
    "# Train_Test_Split\n",
    "from sklearn.model_selection import train_test_split\n",
    "\n",
    "# Scaling\n",
    "from sklearn.preprocessing import StandardScaler\n",
    "\n",
    "# Metrics\n",
    "from sklearn.metrics import accuracy_score\n",
    "\n",
    "# PyTorch\n",
    "import torch\n",
    "import torch.nn as nn\n",
    "from torch.utils.data import TensorDataset, DataLoader\n",
    "\n",
    "# Progress bar from tqdm\n",
    "from tqdm.notebook import trange\n",
    "from tqdm.notebook import tnrange\n",
    "\n",
    "# ignores the filter warnings\n",
    "import warnings\n",
    "warnings.filterwarnings('ignore')"
   ]
  },
  {
   "cell_type": "markdown",
   "id": "28eae939-7fcd-4909-a5fe-8ddc8a26dff9",
   "metadata": {},
   "source": [
    "<a id = 'simple'></a>\n",
    "### 1. Simple Neural Network\n",
    "---\n",
    "Loading the test and train set CSVs files."
   ]
  },
  {
   "cell_type": "code",
   "execution_count": 2,
   "id": "9a7d56f0-856b-469b-81cc-999fe80a3334",
   "metadata": {
    "tags": []
   },
   "outputs": [
    {
     "data": {
      "text/plain": [
       "((42000, 785), (28000, 784))"
      ]
     },
     "execution_count": 2,
     "metadata": {},
     "output_type": "execute_result"
    }
   ],
   "source": [
    "df_train = pd.read_csv('../data/train.csv')\n",
    "df_test = pd.read_csv('../data/test.csv')\n",
    "df_train.shape, df_test.shape"
   ]
  },
  {
   "cell_type": "markdown",
   "id": "021cbd2c-551e-4443-ac62-8a6b2d612781",
   "metadata": {},
   "source": [
    "We need to set our independent (X) and dependent (y) variables as `numpy arrays` from the dataset."
   ]
  },
  {
   "cell_type": "code",
   "execution_count": 3,
   "id": "d88b6f43-3a51-458a-9d97-0d613afaf38f",
   "metadata": {
    "tags": []
   },
   "outputs": [
    {
     "name": "stdout",
     "output_type": "stream",
     "text": [
      "(42000, 784) (42000,)\n"
     ]
    }
   ],
   "source": [
    "X = df_train.iloc[:, 1:].to_numpy()\n",
    "y = df_train.iloc[:, 0].to_numpy()\n",
    "\n",
    "# sanity check\n",
    "print(X.shape, y.shape)"
   ]
  },
  {
   "cell_type": "markdown",
   "id": "384f7d04-5111-4feb-bde0-9d5851db193c",
   "metadata": {},
   "source": [
    "We will perform a **train_test_split()** to split our dataset into train and validation sets.\n",
    "- Validation size of 25% of the data.\n",
    "- Stratify=y to make sure distribution of the classes remain the same in both training and validation set."
   ]
  },
  {
   "cell_type": "code",
   "execution_count": 4,
   "id": "88dce51b-7e1e-42c3-ad70-236e6944d053",
   "metadata": {
    "tags": []
   },
   "outputs": [
    {
     "data": {
      "text/plain": [
       "((31500, 784), (31500,))"
      ]
     },
     "execution_count": 4,
     "metadata": {},
     "output_type": "execute_result"
    }
   ],
   "source": [
    "X_train, X_val, y_train, y_val = train_test_split(X, y, test_size=0.25, stratify=y)\n",
    "X_train.shape, y_train.shape"
   ]
  },
  {
   "cell_type": "markdown",
   "id": "b95d4afe-4c59-43d1-a8f7-de1fd9ff28f0",
   "metadata": {},
   "source": [
    "We can start by implementing a simple `linear` network.\n",
    "- Since it's linear, we would obtain better results when scaling the data."
   ]
  },
  {
   "cell_type": "code",
   "execution_count": 5,
   "id": "522e4ca3-6570-493c-b913-c19b6175863a",
   "metadata": {
    "tags": []
   },
   "outputs": [],
   "source": [
    "# instantiate standard scaler\n",
    "ss = StandardScaler()\n",
    "\n",
    "# fit and transform training\n",
    "X_train = ss.fit_transform(X_train)\n",
    "\n",
    "# ONLY transform X_val\n",
    "X_val = ss.transform(X_val)"
   ]
  },
  {
   "cell_type": "markdown",
   "id": "0ef78205-6ad4-481d-9320-61c3a5708aeb",
   "metadata": {},
   "source": [
    "Now we need to convert the 1-D `arrays` into torch `tensors`\n",
    "- Using float32 to cut down memory usage\n",
    "- Using torch.long for classification labels."
   ]
  },
  {
   "cell_type": "code",
   "execution_count": 6,
   "id": "f59cd247-d25c-4573-b972-010c423e6cfa",
   "metadata": {
    "tags": []
   },
   "outputs": [
    {
     "name": "stdout",
     "output_type": "stream",
     "text": [
      "torch.Size([31500, 784]) torch.Size([31500]) torch.Size([10500, 784]) torch.Size([10500])\n"
     ]
    }
   ],
   "source": [
    "# Independent Variables\n",
    "X_train = torch.tensor(X_train, dtype=torch.float32)\n",
    "X_val = torch.tensor(X_val, dtype=torch.float32)\n",
    "\n",
    "# Dependent Variable\n",
    "y_train = torch.tensor(y_train, dtype=torch.long)\n",
    "y_val = torch.tensor(y_val, dtype=torch.long)\n",
    "\n",
    "# Sanity Check\n",
    "print(X_train.shape, y_train.shape, X_val.shape, y_val.shape)"
   ]
  },
  {
   "cell_type": "code",
   "execution_count": 8,
   "id": "53a452c1-b839-474d-9f9c-e6a6fc57991f",
   "metadata": {
    "tags": []
   },
   "outputs": [
    {
     "data": {
      "text/plain": [
       "Sequential(\n",
       "  (0): Linear(in_features=784, out_features=200, bias=True)\n",
       "  (1): ReLU()\n",
       "  (2): Linear(in_features=200, out_features=50, bias=True)\n",
       "  (3): ReLU()\n",
       "  (4): Linear(in_features=50, out_features=10, bias=True)\n",
       ")"
      ]
     },
     "execution_count": 8,
     "metadata": {},
     "output_type": "execute_result"
    }
   ],
   "source": [
    "# Simple neural net layers\n",
    "simple_neural_net = nn.Sequential(\n",
    "    nn.Linear(784, 200),\n",
    "    nn.ReLU(),\n",
    "    nn.Linear(200, 50),\n",
    "    nn.ReLU(),\n",
    "    nn.Linear(50, 10)\n",
    "    )\n",
    "simple_neural_net"
   ]
  },
  {
   "cell_type": "code",
   "execution_count": 9,
   "id": "d2f35b68-fa74-4313-b30d-6ff2924982d1",
   "metadata": {
    "tags": []
   },
   "outputs": [
    {
     "name": "stdout",
     "output_type": "stream",
     "text": [
      "Old loss: 2.3218276500701904\n",
      "New loss: 2.239776372909546\n"
     ]
    }
   ],
   "source": [
    "# Creating a single row\n",
    "single_row = X_train[[0], :]\n",
    "single_target = y_train[[0]]\n",
    "\n",
    "\n",
    "# Instantiate Optimizer\n",
    "optimizer = torch.optim.SGD(simple_neural_net.parameters(), lr=0.01)\n",
    "\n",
    "#### Forward pass ####\n",
    "output_values = simple_neural_net(single_row)\n",
    "\n",
    "# Cross Entropy Loss\n",
    "cross_entropy_loss = nn.CrossEntropyLoss()\n",
    "loss = cross_entropy_loss(output_values, single_target)\n",
    "\n",
    "#### Backward pass ####\n",
    "loss.backward()\n",
    "\n",
    "# Update Weights\n",
    "optimizer.step()\n",
    "\n",
    "# New Outputs\n",
    "new_output = simple_neural_net(single_row)\n",
    "new_loss = cross_entropy_loss(new_output, single_target)\n",
    "\n",
    "# Comparing old and new loss\n",
    "print(f\"Old loss: {loss}\\nNew loss: {new_loss}\")"
   ]
  },
  {
   "cell_type": "markdown",
   "id": "d3444a28-789c-4f20-9f08-c85278d63a69",
   "metadata": {},
   "source": [
    "Now let's implement our PyTorch model through object oriented programming. We make sure to define a class that inherits from the PyTorch `module` class. "
   ]
  },
  {
   "cell_type": "code",
   "execution_count": 7,
   "id": "2349e195-570a-4640-9cdf-50f02153a870",
   "metadata": {
    "tags": []
   },
   "outputs": [],
   "source": [
    "class SimpleNN(nn.Module):\n",
    "    \"\"\"Basic multi-layer architecture.\"\"\"\n",
    "\n",
    "    def __init__(self):\n",
    "        \"\"\"Define the main components of the network\"\"\"\n",
    "        super(SimpleNN, self).__init__()\n",
    "\n",
    "        self.neural_net = nn.Sequential(\n",
    "            nn.Linear(784, 256),\n",
    "            nn.BatchNorm1d(256),\n",
    "            nn.ReLU(),\n",
    "            nn.Dropout(p=0.5),\n",
    "            nn.Linear(256, 64),\n",
    "            nn.BatchNorm1d(64),\n",
    "            nn.ReLU(),\n",
    "            nn.Dropout(p=0.5),\n",
    "            nn.Linear(64, 10)\n",
    "            )\n",
    "    \n",
    "    def forward(self, x):\n",
    "        \"\"\"Perform forward pass.\"\"\"\n",
    "        \n",
    "        output = self.neural_net(x)\n",
    "        \n",
    "        return output\n",
    "\n",
    "    def predict(self, x):\n",
    "        '''\n",
    "        The class based interface allows you\n",
    "        add your own functionality, like a familiar\n",
    "        .predict method we all know and love\n",
    "        '''\n",
    "\n",
    "        # Predict class probabilities\n",
    "        predictions = self.forward(x)\n",
    "\n",
    "        # Find highest class prediction, notice we don't need to convert to\n",
    "        # probabilities to do hard predictions, we can simply choose the\n",
    "        # highest values\n",
    "        hard_class_predictions = torch.argmax(predictions, dim=1)\n",
    "\n",
    "        return hard_class_predictions"
   ]
  },
  {
   "cell_type": "code",
   "execution_count": 8,
   "id": "45b71c5f",
   "metadata": {},
   "outputs": [],
   "source": [
    "####### Setting batch size #######\n",
    "batch_size = 256 \n",
    "\n",
    "# Shuffle training set\n",
    "training_loader = DataLoader(TensorDataset(X_train, y_train), batch_size=batch_size, shuffle=True)\n",
    "\n",
    "# Don't shuffle validation set\n",
    "validation_loader = DataLoader(TensorDataset(X_val, y_val), batch_size=batch_size, shuffle=False)"
   ]
  },
  {
   "cell_type": "code",
   "execution_count": 9,
   "id": "32169d58-0992-48a3-8f6a-b4cdb1febc77",
   "metadata": {
    "tags": []
   },
   "outputs": [],
   "source": [
    "####### Parameters #######\n",
    "lr = 0.0001\n",
    "# momentum = 0.9\n",
    "\n",
    "# Instantiate the model, the loss criterion, and the optimizer\n",
    "NN_model = SimpleNN()\n",
    "\n",
    "cross_entropy_loss = nn.CrossEntropyLoss() # this includes the softmax\n",
    "optimizer = torch.optim.Adam(NN_model.parameters(), lr=lr, weight_decay=0.01)"
   ]
  },
  {
   "cell_type": "code",
   "execution_count": 10,
   "id": "5485e8fc",
   "metadata": {
    "scrolled": false,
    "tags": []
   },
   "outputs": [
    {
     "data": {
      "application/vnd.jupyter.widget-view+json": {
       "model_id": "d42ddda6db544e4ba1c913d42cab8885",
       "version_major": 2,
       "version_minor": 0
      },
      "text/plain": [
       "Total epochs:   0%|          | 0/40 [00:00<?, ?it/s]"
      ]
     },
     "metadata": {},
     "output_type": "display_data"
    },
    {
     "name": "stdout",
     "output_type": "stream",
     "text": [
      "EPOCH 1:\n",
      "LOSS train 219.2246367931366 valid 1.3087726831436157\n",
      "EPOCH 2:\n",
      "LOSS train 155.90257573127747 valid 1.0086854696273804\n",
      "EPOCH 3:\n",
      "LOSS train 126.93054562807083 valid 0.805924117565155\n",
      "EPOCH 4:\n",
      "LOSS train 108.02873408794403 valid 0.6819376945495605\n",
      "EPOCH 5:\n",
      "LOSS train 94.69864201545715 valid 0.582705020904541\n",
      "EPOCH 6:\n",
      "LOSS train 83.84931969642639 valid 0.5213972330093384\n",
      "EPOCH 7:\n",
      "LOSS train 76.35139095783234 valid 0.46995118260383606\n",
      "EPOCH 8:\n",
      "LOSS train 69.85353592038155 valid 0.4129261374473572\n",
      "EPOCH 9:\n",
      "LOSS train 65.47084984183311 valid 0.3761839270591736\n",
      "EPOCH 10:\n",
      "LOSS train 62.31651222705841 valid 0.3517802655696869\n",
      "EPOCH 11:\n",
      "LOSS train 58.3596465587616 valid 0.3311997950077057\n",
      "EPOCH 12:\n",
      "LOSS train 55.299481362104416 valid 0.3079570233821869\n",
      "EPOCH 13:\n",
      "LOSS train 53.282386124134064 valid 0.29059797525405884\n",
      "EPOCH 14:\n",
      "LOSS train 50.672718703746796 valid 0.2822519540786743\n",
      "EPOCH 15:\n",
      "LOSS train 48.46271240711212 valid 0.271619588136673\n",
      "EPOCH 16:\n",
      "LOSS train 46.32330438494682 valid 0.26296237111091614\n",
      "EPOCH 17:\n",
      "LOSS train 45.096277356147766 valid 0.24315130710601807\n",
      "EPOCH 18:\n",
      "LOSS train 42.90676628053188 valid 0.2365371584892273\n",
      "EPOCH 19:\n",
      "LOSS train 41.78027464449406 valid 0.22440283000469208\n",
      "EPOCH 20:\n",
      "LOSS train 40.710061967372894 valid 0.22082412242889404\n",
      "EPOCH 21:\n",
      "LOSS train 39.138837680220604 valid 0.21487613022327423\n",
      "EPOCH 22:\n",
      "LOSS train 38.447334080934525 valid 0.21106278896331787\n",
      "EPOCH 23:\n",
      "LOSS train 37.973357275128365 valid 0.197607159614563\n",
      "EPOCH 24:\n",
      "LOSS train 37.290997073054314 valid 0.19811828434467316\n",
      "EPOCH 25:\n",
      "LOSS train 36.63220128417015 valid 0.1897517591714859\n",
      "EPOCH 26:\n",
      "LOSS train 35.43100851774216 valid 0.18509486317634583\n",
      "EPOCH 27:\n",
      "LOSS train 34.796298786997795 valid 0.1834150105714798\n",
      "EPOCH 28:\n",
      "LOSS train 33.62671385705471 valid 0.17719720304012299\n",
      "EPOCH 29:\n",
      "LOSS train 33.09100487828255 valid 0.17358005046844482\n",
      "EPOCH 30:\n",
      "LOSS train 33.227230459451675 valid 0.17600563168525696\n",
      "EPOCH 31:\n",
      "LOSS train 32.63127061724663 valid 0.17570480704307556\n",
      "EPOCH 32:\n",
      "LOSS train 32.072655096650124 valid 0.1680416613817215\n",
      "EPOCH 33:\n",
      "LOSS train 31.75132128596306 valid 0.16298779845237732\n",
      "EPOCH 34:\n",
      "LOSS train 30.80066053569317 valid 0.1668965220451355\n",
      "EPOCH 35:\n",
      "LOSS train 30.859232857823372 valid 0.16349375247955322\n",
      "EPOCH 36:\n",
      "LOSS train 30.714290663599968 valid 0.16000089049339294\n",
      "EPOCH 37:\n",
      "LOSS train 30.96217906475067 valid 0.15962663292884827\n",
      "EPOCH 38:\n",
      "LOSS train 30.39399464428425 valid 0.16015224158763885\n",
      "EPOCH 39:\n",
      "LOSS train 29.74748259782791 valid 0.1563836634159088\n",
      "EPOCH 40:\n",
      "LOSS train 29.450878366827965 valid 0.1546999216079712\n",
      "Optimization ended successfully\n"
     ]
    }
   ],
   "source": [
    "### COMMON PYTORCH RECIPE FOR TRAINING A NETWORK ###\n",
    "\n",
    "epoch_number = 0\n",
    "\n",
    "total_train_loss = []\n",
    "total_val_loss = []\n",
    "\n",
    "# Now run for 25 epochs\n",
    "for epoch in trange(40, desc=\"Total epochs: \"):\n",
    "    print('EPOCH {}:'.format(epoch_number + 1))\n",
    "    \n",
    "    ##### Training #####\n",
    "    running_loss = 0\n",
    "    last_loss = 0\n",
    "    \n",
    "    NN_model.train(True)\n",
    "    \n",
    "    # Compute \n",
    "    for i, data in enumerate(training_loader):\n",
    "        \n",
    "        # Every data instance is an input + label pair\n",
    "        inputs, labels = data\n",
    "\n",
    "        # Zero your gradients for every batch!\n",
    "        optimizer.zero_grad()\n",
    "\n",
    "        # Make predictions for this batch\n",
    "        outputs = NN_model(inputs)\n",
    "\n",
    "        # Compute the loss and its gradients\n",
    "        loss = cross_entropy_loss(outputs, labels)\n",
    "        loss.backward()\n",
    "\n",
    "        # Adjust learning weights\n",
    "        optimizer.step()\n",
    "\n",
    "        # Gather data \n",
    "        running_loss += loss.item()\n",
    "\n",
    "    total_train_loss.append(running_loss)\n",
    "    \n",
    "    ##### Validation #####\n",
    "    running_vloss = 0.0\n",
    "    \n",
    "    # Set the model to evaluation mode, disabling dropout and using population\n",
    "    # statistics for batch normalization.\n",
    "    NN_model.eval()\n",
    "\n",
    "    # Disable gradient computation and reduce memory consumption.\n",
    "    with torch.no_grad():\n",
    "        for i, vdata in enumerate(validation_loader):\n",
    "            vinputs, vlabels = vdata\n",
    "            voutputs = NN_model(vinputs)\n",
    "            vloss = cross_entropy_loss(voutputs, vlabels)\n",
    "            running_vloss += vloss\n",
    "\n",
    "    avg_vloss = running_vloss / (i + 1)\n",
    "    total_val_loss.append(avg_vloss)\n",
    "    \n",
    "    epoch_number += 1\n",
    "    \n",
    "    print('LOSS train {} valid {}'.format(running_loss, avg_vloss))\n",
    "\n",
    "print(f\"Optimization ended successfully\")"
   ]
  },
  {
   "cell_type": "code",
   "execution_count": 11,
   "id": "8f361af1",
   "metadata": {
    "tags": []
   },
   "outputs": [
    {
     "name": "stdout",
     "output_type": "stream",
     "text": [
      "Accuracy score on train set: 98.32%\n"
     ]
    }
   ],
   "source": [
    "# Make predictions\n",
    "binary_classification = NN_model.predict(X_train)\n",
    "\n",
    "# Calculate the score on the test set\n",
    "accuracy = accuracy_score(y_train, binary_classification)\n",
    "print(f\"Accuracy score on train set: {round(accuracy * 100, 2)}%\")"
   ]
  },
  {
   "cell_type": "code",
   "execution_count": 12,
   "id": "bd0ba3a4-fd43-41ce-aa0d-7d2dba34eb5b",
   "metadata": {
    "tags": []
   },
   "outputs": [
    {
     "name": "stdout",
     "output_type": "stream",
     "text": [
      "Accuracy score on test set: 96.2%\n"
     ]
    }
   ],
   "source": [
    "# Make predictions\n",
    "binary_classification = NN_model.predict(X_val)\n",
    "\n",
    "# Calculate the score on the test set\n",
    "accuracy = accuracy_score(y_val, binary_classification)\n",
    "print(f\"Accuracy score on test set: {round(accuracy * 100, 2)}%\")"
   ]
  },
  {
   "cell_type": "code",
   "execution_count": 13,
   "id": "d30c2195",
   "metadata": {},
   "outputs": [
    {
     "data": {
      "image/png": "[encoded data removed]",
      "text/plain": [
       "<Figure size 640x480 with 1 Axes>"
      ]
     },
     "metadata": {},
     "output_type": "display_data"
    }
   ],
   "source": [
    "plt.figure()\n",
    "plt.plot(total_train_loss, label=\"Training Loss\")\n",
    "plt.plot(total_val_loss, label=\"Validation Loss\")\n",
    "plt.title(\"Training and Validation Loss\")\n",
    "plt.xlabel(\"Epoch\")\n",
    "plt.ylabel(\"Loss\")\n",
    "plt.legend()\n",
    "plt.show()"
   ]
  },
  {
   "cell_type": "markdown",
   "id": "fa9d5d37",
   "metadata": {},
   "source": [
    "> Validation loss is lower than training loss possibly because of our dropout layers."
   ]
  },
  {
   "cell_type": "code",
   "execution_count": null,
   "id": "6e08e825",
   "metadata": {},
   "outputs": [],
   "source": []
  }
 ],
 "metadata": {
  "kernelspec": {
   "display_name": "deeplearning",
   "language": "python",
   "name": "deeplearning"
  },
  "language_info": {
   "codemirror_mode": {
    "name": "ipython",
    "version": 3
   },
   "file_extension": ".py",
   "mimetype": "text/x-python",
   "name": "python",
   "nbconvert_exporter": "python",
   "pygments_lexer": "ipython3",
   "version": "3.10.1"
  }
 },
 "nbformat": 4,
 "nbformat_minor": 5
}

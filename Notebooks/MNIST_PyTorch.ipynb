{
 "cells": [
  {
   "cell_type": "markdown",
   "id": "8b6735e0-9d2d-4957-a88a-a520bdc4f377",
   "metadata": {},
   "source": [
    "# MNIST Digit Recognizer - Simple Neural Network Classification\n",
    "\n",
    "**Authors: Clement, Calvin, Tilova**\n",
    "\n",
    "---\n",
    "\n",
    "Welcome to the second notebook by **Tequila Chicas**! We will be classifying images of hand written numbers to their corresponding digits. This project follows the guidelines and uses the data set provide from the Kaggle Competition [here](https://www.kaggle.com/competitions/digit-recognizer/overview). \n",
    "\n",
    "## Introduction  \n",
    "\n",
    "In this notebook we will be fitting the dataset in a simple neural network to see how well we can predict the digits of the MNIST Dataset."
   ]
  },
  {
   "cell_type": "markdown",
   "id": "54e87ed1-9831-4c4c-8676-59ac62889490",
   "metadata": {},
   "source": [
    "<a id = 'toc'></a>\n",
    "    \n",
    "## Table of Contents\n",
    "---\n",
    "1. [Simple Neural Network](#simple)"
   ]
  },
  {
   "cell_type": "markdown",
   "id": "b71f3c5d-4e95-49bb-96b4-3323428d4c3a",
   "metadata": {},
   "source": [
    "**Importing Libraries**"
   ]
  },
  {
   "cell_type": "code",
   "execution_count": 1,
   "id": "ea50e368-24e3-485d-a786-9798f850b062",
   "metadata": {
    "tags": []
   },
   "outputs": [],
   "source": [
    "import numpy as np\n",
    "import pandas as pd\n",
    "\n",
    "# data visualization\n",
    "import matplotlib.pyplot as plt\n",
    "import seaborn as sns\n",
    "\n",
    "# Train_Test_Split\n",
    "from sklearn.model_selection import train_test_split\n",
    "\n",
    "# Scaling\n",
    "from sklearn.preprocessing import StandardScaler\n",
    "\n",
    "# Metrics\n",
    "from sklearn.metrics import accuracy_score\n",
    "\n",
    "# PyTorch\n",
    "import torch\n",
    "import torch.nn as nn\n",
    "from torch.utils.data import TensorDataset, DataLoader\n",
    "\n",
    "# Progress bar from tqdm\n",
    "from tqdm.notebook import trange\n",
    "from tqdm.notebook import tnrange\n",
    "\n",
    "# ignores the filter warnings\n",
    "import warnings\n",
    "warnings.filterwarnings('ignore')"
   ]
  },
  {
   "cell_type": "markdown",
   "id": "28eae939-7fcd-4909-a5fe-8ddc8a26dff9",
   "metadata": {},
   "source": [
    "<a id = 'simple'></a>\n",
    "### 1. Simple Neural Network\n",
    "---\n",
    "Loading the test and train set CSVs files."
   ]
  },
  {
   "cell_type": "code",
   "execution_count": 2,
   "id": "9a7d56f0-856b-469b-81cc-999fe80a3334",
   "metadata": {
    "tags": []
   },
   "outputs": [
    {
     "data": {
      "text/plain": [
       "((42000, 785), (28000, 784))"
      ]
     },
     "execution_count": 2,
     "metadata": {},
     "output_type": "execute_result"
    }
   ],
   "source": [
    "df_train = pd.read_csv('../data/train.csv')\n",
    "df_test = pd.read_csv('../data/test.csv')\n",
    "df_train.shape, df_test.shape"
   ]
  },
  {
   "cell_type": "markdown",
   "id": "021cbd2c-551e-4443-ac62-8a6b2d612781",
   "metadata": {},
   "source": [
    "We need to set our independent (X) and dependent (y) variables as `numpy arrays` from the dataset."
   ]
  },
  {
   "cell_type": "code",
   "execution_count": 3,
   "id": "d88b6f43-3a51-458a-9d97-0d613afaf38f",
   "metadata": {
    "tags": []
   },
   "outputs": [
    {
     "name": "stdout",
     "output_type": "stream",
     "text": [
      "(42000, 784) (42000,)\n"
     ]
    }
   ],
   "source": [
    "X = df_train.iloc[:, 1:].to_numpy()\n",
    "y = df_train.iloc[:, 0].to_numpy()\n",
    "\n",
    "# sanity check\n",
    "print(X.shape, y.shape)"
   ]
  },
  {
   "cell_type": "markdown",
   "id": "384f7d04-5111-4feb-bde0-9d5851db193c",
   "metadata": {},
   "source": [
    "We will perform a **train_test_split()** to split our dataset into train and validation sets.\n",
    "- Validation size of 25% of the data.\n",
    "- Stratify=y to make sure distribution of the classes remain the same in both training and validation set."
   ]
  },
  {
   "cell_type": "code",
   "execution_count": 4,
   "id": "88dce51b-7e1e-42c3-ad70-236e6944d053",
   "metadata": {
    "tags": []
   },
   "outputs": [
    {
     "data": {
      "text/plain": [
       "((31500, 784), (31500,))"
      ]
     },
     "execution_count": 4,
     "metadata": {},
     "output_type": "execute_result"
    }
   ],
   "source": [
    "X_train, X_val, y_train, y_val = train_test_split(X, y, test_size=0.25, stratify=y)\n",
    "X_train.shape, y_train.shape"
   ]
  },
  {
   "cell_type": "markdown",
   "id": "b95d4afe-4c59-43d1-a8f7-de1fd9ff28f0",
   "metadata": {},
   "source": [
    "We can start by implementing a simple `linear` network.\n",
    "- Since it's linear, we would obtain better results when scaling the data."
   ]
  },
  {
   "cell_type": "code",
   "execution_count": 5,
   "id": "522e4ca3-6570-493c-b913-c19b6175863a",
   "metadata": {
    "tags": []
   },
   "outputs": [],
   "source": [
    "# instantiate standard scaler\n",
    "ss = StandardScaler()\n",
    "\n",
    "# fit and transform training\n",
    "X_train = ss.fit_transform(X_train)\n",
    "\n",
    "# ONLY transform X_val\n",
    "X_test = ss.transform(X_val)"
   ]
  },
  {
   "cell_type": "markdown",
   "id": "0ef78205-6ad4-481d-9320-61c3a5708aeb",
   "metadata": {},
   "source": [
    "Now we need to convert the 1-D `arrays` into torch `tensors`\n",
    "- Using float32 to cut down memory usage\n",
    "- Using torch.long for classification labels."
   ]
  },
  {
   "cell_type": "code",
   "execution_count": 6,
   "id": "f59cd247-d25c-4573-b972-010c423e6cfa",
   "metadata": {
    "tags": []
   },
   "outputs": [
    {
     "name": "stdout",
     "output_type": "stream",
     "text": [
      "torch.Size([31500, 784]) torch.Size([31500]) torch.Size([10500, 784]) torch.Size([10500])\n"
     ]
    }
   ],
   "source": [
    "# Independent Variables\n",
    "X_train = torch.tensor(X_train, dtype=torch.float32)\n",
    "X_val = torch.tensor(X_val, dtype=torch.float32)\n",
    "\n",
    "# Dependent Variable\n",
    "y_train = torch.tensor(y_train, dtype=torch.long)\n",
    "y_val = torch.tensor(y_val, dtype=torch.long)\n",
    "\n",
    "# Sanity Check\n",
    "print(X_train.shape, y_train.shape, X_val.shape, y_val.shape)"
   ]
  },
  {
   "cell_type": "code",
   "execution_count": 8,
   "id": "53a452c1-b839-474d-9f9c-e6a6fc57991f",
   "metadata": {
    "tags": []
   },
   "outputs": [
    {
     "data": {
      "text/plain": [
       "Sequential(\n",
       "  (0): Linear(in_features=784, out_features=200, bias=True)\n",
       "  (1): ReLU()\n",
       "  (2): Linear(in_features=200, out_features=50, bias=True)\n",
       "  (3): ReLU()\n",
       "  (4): Linear(in_features=50, out_features=10, bias=True)\n",
       ")"
      ]
     },
     "execution_count": 8,
     "metadata": {},
     "output_type": "execute_result"
    }
   ],
   "source": [
    "# Simple neural net layers\n",
    "simple_neural_net = nn.Sequential(\n",
    "    nn.Linear(784, 200),\n",
    "    nn.ReLU(),\n",
    "    nn.Linear(200, 50),\n",
    "    nn.ReLU(),\n",
    "    nn.Linear(50, 10)\n",
    "    )\n",
    "simple_neural_net"
   ]
  },
  {
   "cell_type": "code",
   "execution_count": 9,
   "id": "d2f35b68-fa74-4313-b30d-6ff2924982d1",
   "metadata": {
    "tags": []
   },
   "outputs": [
    {
     "name": "stdout",
     "output_type": "stream",
     "text": [
      "Old loss: 2.3218276500701904\n",
      "New loss: 2.239776372909546\n"
     ]
    }
   ],
   "source": [
    "# Creating a single row\n",
    "single_row = X_train[[0], :]\n",
    "single_target = y_train[[0]]\n",
    "\n",
    "\n",
    "# Instantiate Optimizer\n",
    "optimizer = torch.optim.SGD(simple_neural_net.parameters(), lr=0.01)\n",
    "\n",
    "#### Forward pass ####\n",
    "output_values = simple_neural_net(single_row)\n",
    "\n",
    "# Cross Entropy Loss\n",
    "cross_entropy_loss = nn.CrossEntropyLoss()\n",
    "loss = cross_entropy_loss(output_values, single_target)\n",
    "\n",
    "#### Backward pass ####\n",
    "loss.backward()\n",
    "\n",
    "# Update Weights\n",
    "optimizer.step()\n",
    "\n",
    "# New Outputs\n",
    "new_output = simple_neural_net(single_row)\n",
    "new_loss = cross_entropy_loss(new_output, single_target)\n",
    "\n",
    "# Comparing old and new loss\n",
    "print(f\"Old loss: {loss}\\nNew loss: {new_loss}\")"
   ]
  },
  {
   "cell_type": "code",
   "execution_count": null,
   "id": "90e313aa-a481-49f1-9cff-1353ac75df82",
   "metadata": {},
   "outputs": [],
   "source": []
  },
  {
   "cell_type": "code",
   "execution_count": null,
   "id": "4da7807b-1a7c-4a8b-b88d-a43f43f1ddcd",
   "metadata": {},
   "outputs": [],
   "source": []
  },
  {
   "cell_type": "code",
   "execution_count": null,
   "id": "2a1aa977-b273-41d2-86ec-2a817fc15408",
   "metadata": {},
   "outputs": [],
   "source": []
  },
  {
   "cell_type": "code",
   "execution_count": null,
   "id": "3ef4bf9e-1506-4cc8-9ba8-e0af58377750",
   "metadata": {},
   "outputs": [],
   "source": []
  },
  {
   "cell_type": "code",
   "execution_count": null,
   "id": "912e0b68-d689-45c2-9efd-ea76ed0f3dc0",
   "metadata": {},
   "outputs": [],
   "source": []
  },
  {
   "cell_type": "markdown",
   "id": "d3444a28-789c-4f20-9f08-c85278d63a69",
   "metadata": {},
   "source": [
    "Someone plz explain this what `__init__` does again"
   ]
  },
  {
   "cell_type": "code",
   "execution_count": 52,
   "id": "2349e195-570a-4640-9cdf-50f02153a870",
   "metadata": {
    "tags": []
   },
   "outputs": [],
   "source": [
    "class SimpleNN(nn.Module):\n",
    "    \"\"\"Basic multi-layer architecture.\"\"\"\n",
    "\n",
    "    def __init__(self):\n",
    "        \"\"\"Define the main components of the network\"\"\"\n",
    "        super(SimpleNN, self).__init__()\n",
    "        \n",
    "#         self.layer_1 = nn.Linear(784, 100) # transition from input into hidden layer\n",
    "#         self.activation_1 = nn.ReLU()   # Activation function\n",
    "#         self.layer_2 = nn.Linear(100, 10)  # transition from hidden layer into output\n",
    "\n",
    "        self.neural_net = nn.Sequential(\n",
    "            nn.Linear(784, 300),\n",
    "            nn.ReLU(),\n",
    "            nn.Dropout(p=0.1),\n",
    "            nn.Linear(300, 100),\n",
    "            nn.ReLU(),\n",
    "            nn.Dropout(p=0.1),\n",
    "            nn.Linear(100, 10)\n",
    "            )\n",
    "    \n",
    "    def forward(self, x):\n",
    "        \"\"\"Perform forward pass.\"\"\"\n",
    "\n",
    "        # pass through the layers\n",
    "#         hidden_1 = self.activation_1(self.layer_1(x))\n",
    "#         output = self.layer_2(hidden_1)\n",
    "        \n",
    "        output = self.neural_net(x)\n",
    "        \n",
    "        return output\n",
    "\n",
    "    def predict(self, x):\n",
    "        '''\n",
    "        The class based interface allows you\n",
    "        add your own functionality, like a familiar\n",
    "        .predict method we all know and love\n",
    "        '''\n",
    "\n",
    "        # Predict class probabilities\n",
    "        predictions = self.forward(x)\n",
    "\n",
    "        # Find highest class prediction, notice we don't need to convert to\n",
    "        # probabilities to do hard predictions, we can simply choose the\n",
    "        # highest values\n",
    "        hard_class_predictions = torch.argmax(predictions, dim=1)\n",
    "\n",
    "        return hard_class_predictions"
   ]
  },
  {
   "cell_type": "code",
   "execution_count": 53,
   "id": "45b71c5f",
   "metadata": {},
   "outputs": [],
   "source": [
    "####### Setting batch size #######\n",
    "batch_size = 128\n",
    "\n",
    "# Shuffle training set\n",
    "training_loader = DataLoader(TensorDataset(X_train, y_train), batch_size=batch_size, shuffle=True)\n",
    "\n",
    "# Don't shuffle validation set\n",
    "validation_loader = DataLoader(TensorDataset(X_val, y_val), batch_size=batch_size, shuffle=False)"
   ]
  },
  {
   "cell_type": "code",
   "execution_count": 54,
   "id": "32169d58-0992-48a3-8f6a-b4cdb1febc77",
   "metadata": {
    "tags": []
   },
   "outputs": [],
   "source": [
    "####### Parameters #######\n",
    "lr = 0.0001\n",
    "# momentum = 0.9\n",
    "\n",
    "# Instantiate the model, the loss criterion, and the optimizer\n",
    "NN_model = SimpleNN()\n",
    "\n",
    "cross_entropy_loss = nn.CrossEntropyLoss() # this includes the softmax\n",
    "optimizer = torch.optim.Adam(NN_model.parameters(), lr=lr, weight_decay=0.001)"
   ]
  },
  {
   "cell_type": "code",
   "execution_count": 55,
   "id": "9b652540-ffb4-45f4-a893-521339b8a26c",
   "metadata": {
    "scrolled": false,
    "tags": []
   },
   "outputs": [
    {
     "data": {
      "application/vnd.jupyter.widget-view+json": {
       "model_id": "ad80e105d11a409ea16f80a43c77fbb9",
       "version_major": 2,
       "version_minor": 0
      },
      "text/plain": [
       "Total epochs:   0%|          | 0/50 [00:00<?, ?it/s]"
      ]
     },
     "metadata": {},
     "output_type": "display_data"
    },
    {
     "name": "stdout",
     "output_type": "stream",
     "text": [
      "EPOCH 1:\n",
      "LOSS train 285.2734155654907 valid 40.582801818847656\n",
      "EPOCH 2:\n",
      "LOSS train 84.6023516356945 valid 46.986026763916016\n",
      "EPOCH 3:\n",
      "LOSS train 62.61064726859331 valid 35.98208236694336\n",
      "EPOCH 4:\n",
      "LOSS train 52.24762909859419 valid 28.738536834716797\n",
      "EPOCH 5:\n",
      "LOSS train 44.72688929364085 valid 22.628374099731445\n",
      "EPOCH 6:\n",
      "LOSS train 39.76408402994275 valid 20.783660888671875\n",
      "EPOCH 7:\n",
      "LOSS train 35.8258156105876 valid 17.950538635253906\n",
      "EPOCH 8:\n",
      "LOSS train 31.887656312435865 valid 17.923568725585938\n",
      "EPOCH 9:\n",
      "LOSS train 29.947263345122337 valid 15.994165420532227\n",
      "EPOCH 10:\n",
      "LOSS train 27.136708311736584 valid 15.328683853149414\n",
      "EPOCH 11:\n",
      "LOSS train 25.093415267765522 valid 13.912137031555176\n",
      "EPOCH 12:\n",
      "LOSS train 23.02440625615418 valid 13.286550521850586\n",
      "EPOCH 13:\n",
      "LOSS train 21.69300107099116 valid 11.171712875366211\n",
      "EPOCH 14:\n",
      "LOSS train 20.131295684725046 valid 11.607884407043457\n",
      "EPOCH 15:\n",
      "LOSS train 18.655705127865076 valid 12.326737403869629\n",
      "EPOCH 16:\n",
      "LOSS train 17.44017232512124 valid 11.281545639038086\n",
      "EPOCH 17:\n",
      "LOSS train 16.542644969187677 valid 11.516977310180664\n",
      "EPOCH 18:\n",
      "LOSS train 15.280390072613955 valid 12.808612823486328\n",
      "EPOCH 19:\n",
      "LOSS train 14.088916713371873 valid 10.879279136657715\n",
      "EPOCH 20:\n",
      "LOSS train 13.566238841507584 valid 11.049883842468262\n",
      "EPOCH 21:\n",
      "LOSS train 12.773456041701138 valid 11.309535026550293\n",
      "EPOCH 22:\n",
      "LOSS train 12.136787343770266 valid 9.639543533325195\n",
      "EPOCH 23:\n",
      "LOSS train 11.377955267205834 valid 9.719127655029297\n",
      "EPOCH 24:\n",
      "LOSS train 10.832999495323747 valid 10.484293937683105\n",
      "EPOCH 25:\n",
      "LOSS train 10.47985900240019 valid 10.751913070678711\n",
      "EPOCH 26:\n",
      "LOSS train 9.90506293065846 valid 11.414571762084961\n",
      "EPOCH 27:\n",
      "LOSS train 9.370131290517747 valid 10.014660835266113\n",
      "EPOCH 28:\n",
      "LOSS train 8.767493188846856 valid 10.450887680053711\n",
      "EPOCH 29:\n",
      "LOSS train 8.511765499599278 valid 9.956646919250488\n",
      "EPOCH 30:\n",
      "LOSS train 8.003448884468526 valid 10.478246688842773\n",
      "EPOCH 31:\n",
      "LOSS train 7.824451698921621 valid 10.143463134765625\n",
      "EPOCH 32:\n",
      "LOSS train 7.596454611048102 valid 10.408881187438965\n",
      "EPOCH 33:\n",
      "LOSS train 7.356868118047714 valid 9.931938171386719\n",
      "EPOCH 34:\n",
      "LOSS train 6.895766447298229 valid 9.933581352233887\n",
      "EPOCH 35:\n",
      "LOSS train 6.649006295949221 valid 10.70390796661377\n",
      "EPOCH 36:\n",
      "LOSS train 6.598986009135842 valid 9.708646774291992\n",
      "EPOCH 37:\n",
      "LOSS train 6.649282794445753 valid 10.967238426208496\n",
      "EPOCH 38:\n",
      "LOSS train 6.238373025786132 valid 9.397273063659668\n",
      "EPOCH 39:\n",
      "LOSS train 6.237048732116818 valid 9.101239204406738\n",
      "EPOCH 40:\n",
      "LOSS train 5.905357949901372 valid 9.194192886352539\n",
      "EPOCH 41:\n",
      "LOSS train 5.761988603044301 valid 8.857664108276367\n",
      "EPOCH 42:\n",
      "LOSS train 5.8957392680458724 valid 9.65511417388916\n",
      "EPOCH 43:\n",
      "LOSS train 5.513725112192333 valid 9.781518936157227\n",
      "EPOCH 44:\n",
      "LOSS train 5.434793151915073 valid 9.272335052490234\n",
      "EPOCH 45:\n",
      "LOSS train 5.285932803992182 valid 9.99246597290039\n",
      "EPOCH 46:\n",
      "LOSS train 5.313005994074047 valid 9.344158172607422\n",
      "EPOCH 47:\n",
      "LOSS train 5.0980030936189 valid 9.454150199890137\n",
      "EPOCH 48:\n",
      "LOSS train 4.8767061731778085 valid 9.933707237243652\n",
      "EPOCH 49:\n",
      "LOSS train 4.744738336652517 valid 9.736570358276367\n",
      "EPOCH 50:\n",
      "LOSS train 4.732047866098583 valid 8.969439506530762\n",
      "Optimization ended successfully\n"
     ]
    }
   ],
   "source": [
    "### COMMON PYTORCH RECIPE FOR TRAINING A NETWORK ###\n",
    "\n",
    "epoch_number = 0\n",
    "\n",
    "total_train_loss = []\n",
    "total_val_loss = []\n",
    "\n",
    "# Now run for 25 epochs\n",
    "for epoch in trange(50, desc=\"Total epochs: \"):\n",
    "    print('EPOCH {}:'.format(epoch_number + 1))\n",
    "    \n",
    "    ##### Training #####\n",
    "    running_loss = 0\n",
    "    last_loss = 0\n",
    "    \n",
    "    NN_model.train(True)\n",
    "    \n",
    "    # Compute \n",
    "    for i, data in enumerate(training_loader):\n",
    "        # Every data instance is an input + label pair\n",
    "        inputs, labels = data\n",
    "\n",
    "        # Zero your gradients for every batch!\n",
    "        optimizer.zero_grad()\n",
    "\n",
    "        # Make predictions for this batch\n",
    "        outputs = NN_model(inputs)\n",
    "\n",
    "        # Compute the loss and its gradients\n",
    "        loss = cross_entropy_loss(outputs, labels)\n",
    "        loss.backward()\n",
    "\n",
    "        # Adjust learning weights\n",
    "        optimizer.step()\n",
    "\n",
    "        # Gather data and report (reporting only after every 1000 batches, but batch size is set manually)\n",
    "        running_loss += loss.item()\n",
    "\n",
    "    total_train_loss.append(running_loss)\n",
    "    \n",
    "    ##### Validation #####\n",
    "    running_vloss = 0.0\n",
    "    \n",
    "    # Set the model to evaluation mode, disabling dropout and using population\n",
    "    # statistics for batch normalization.\n",
    "    NN_model.eval()\n",
    "\n",
    "    # Disable gradient computation and reduce memory consumption.\n",
    "    with torch.no_grad():\n",
    "        for i, vdata in enumerate(validation_loader):\n",
    "            vinputs, vlabels = vdata\n",
    "            voutputs = NN_model(vinputs)\n",
    "            vloss = cross_entropy_loss(voutputs, vlabels)\n",
    "            running_vloss += vloss\n",
    "\n",
    "    avg_vloss = running_vloss / (i + 1)\n",
    "    total_val_loss.append(avg_vloss)\n",
    "    \n",
    "    epoch_number += 1\n",
    "    \n",
    "    print('LOSS train {} valid {}'.format(running_loss, avg_vloss))\n",
    "\n",
    "print(f\"Optimization ended successfully\")"
   ]
  },
  {
   "cell_type": "code",
   "execution_count": 56,
   "id": "8f361af1",
   "metadata": {
    "tags": []
   },
   "outputs": [
    {
     "name": "stdout",
     "output_type": "stream",
     "text": [
      "Accuracy score on train set: 99.94%\n"
     ]
    }
   ],
   "source": [
    "# Make predictions\n",
    "binary_classification = NN_model.predict(X_train)\n",
    "\n",
    "# Calculate the score on the test set\n",
    "accuracy = accuracy_score(y_train, binary_classification)\n",
    "print(f\"Accuracy score on train set: {round(accuracy * 100, 2)}%\")"
   ]
  },
  {
   "cell_type": "code",
   "execution_count": 57,
   "id": "bd0ba3a4-fd43-41ce-aa0d-7d2dba34eb5b",
   "metadata": {
    "tags": []
   },
   "outputs": [
    {
     "name": "stdout",
     "output_type": "stream",
     "text": [
      "Accuracy score on test set: 95.09%\n"
     ]
    }
   ],
   "source": [
    "# Make predictions\n",
    "binary_classification = NN_model.predict(X_val)\n",
    "\n",
    "# Calculate the score on the test set\n",
    "accuracy = accuracy_score(y_val, binary_classification)\n",
    "print(f\"Accuracy score on test set: {round(accuracy * 100, 2)}%\")"
   ]
  },
  {
   "cell_type": "code",
   "execution_count": 58,
   "id": "d30c2195",
   "metadata": {},
   "outputs": [
    {
     "data": {
      "image/png": "[encoded data removed]",
      "text/plain": [
       "<Figure size 640x480 with 1 Axes>"
      ]
     },
     "metadata": {},
     "output_type": "display_data"
    }
   ],
   "source": [
    "plt.figure()\n",
    "plt.plot(total_train_loss, label=\"Training Loss\")\n",
    "plt.plot(total_val_loss, label=\"Validation Loss\")\n",
    "plt.xlabel(\"Epoch\")\n",
    "plt.ylabel(\"Loss\")\n",
    "plt.legend()\n",
    "plt.show()"
   ]
  },
  {
   "cell_type": "markdown",
   "id": "fa9d5d37",
   "metadata": {},
   "source": [
    "> Validation loss is lower than training loss possibly because of our dropout layers."
   ]
  },
  {
   "cell_type": "code",
   "execution_count": null,
   "id": "6e08e825",
   "metadata": {},
   "outputs": [],
   "source": []
  }
 ],
 "metadata": {
  "kernelspec": {
   "display_name": "deeplearning",
   "language": "python",
   "name": "deeplearning"
  },
  "language_info": {
   "codemirror_mode": {
    "name": "ipython",
    "version": 3
   },
   "file_extension": ".py",
   "mimetype": "text/x-python",
   "name": "python",
   "nbconvert_exporter": "python",
   "pygments_lexer": "ipython3",
   "version": "3.10.1"
  }
 },
 "nbformat": 4,
 "nbformat_minor": 5
}

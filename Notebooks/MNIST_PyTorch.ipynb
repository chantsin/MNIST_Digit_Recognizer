{
 "cells": [
  {
   "cell_type": "markdown",
   "id": "8b6735e0-9d2d-4957-a88a-a520bdc4f377",
   "metadata": {},
   "source": [
    "# MNIST Digit Recognizer - Multilayer Perceptron (MLP) Classifier\n",
    "\n",
    "**Authors: Clement, Calvin, Tilova**\n",
    "\n",
    "---\n",
    "\n",
    "Welcome to the second notebook by **Tequila Chicas**! We will be classifying images of hand written numbers to their corresponding digits. This project follows the guidelines and uses the data set provide from the Kaggle Competition [here](https://www.kaggle.com/competitions/digit-recognizer/overview). \n",
    "\n",
    "## Introduction  \n",
    "\n",
    "In this notebook we will attempt to model the dataset using a Multilayer Perceptron (MLP). As we saw in our baseline model using Logistic Regression, we already had an accuracy score of 91%. We will try to improve this result by utilizing the complexity of a MLP and see how well we can predict the digits of the MNIST Dataset."
   ]
  },
  {
   "cell_type": "markdown",
   "id": "54e87ed1-9831-4c4c-8676-59ac62889490",
   "metadata": {},
   "source": [
    "<a id = 'toc'></a>\n",
    "    \n",
    "## Table of Contents\n",
    "---\n",
    "1. [Simple Neural Network](#simple)\n",
    "2. [Training Neural Network](#training)\n",
    "3. [Simple NN Class](#simplenn)\n",
    "4. [Accuracy Scores](#acc)"
   ]
  },
  {
   "cell_type": "markdown",
   "id": "b71f3c5d-4e95-49bb-96b4-3323428d4c3a",
   "metadata": {},
   "source": [
    "**Importing Libraries**"
   ]
  },
  {
   "cell_type": "code",
   "execution_count": 3,
   "id": "ea50e368-24e3-485d-a786-9798f850b062",
   "metadata": {
    "tags": []
   },
   "outputs": [],
   "source": [
    "import numpy as np\n",
    "import pandas as pd\n",
    "\n",
    "# data visualization\n",
    "import matplotlib.pyplot as plt\n",
    "import seaborn as sns\n",
    "\n",
    "# Train_Test_Split\n",
    "from sklearn.model_selection import train_test_split\n",
    "\n",
    "# Scaling\n",
    "from sklearn.preprocessing import StandardScaler\n",
    "\n",
    "# Metrics\n",
    "from sklearn.metrics import accuracy_score\n",
    "\n",
    "# PyTorch\n",
    "import torch\n",
    "import torch.nn as nn\n",
    "from torch.utils.data import TensorDataset, DataLoader\n",
    "\n",
    "# Progress bar from tqdm\n",
    "from tqdm.notebook import trange\n",
    "from tqdm.notebook import tnrange\n",
    "\n",
    "# ignores the filter warnings\n",
    "import warnings\n",
    "warnings.filterwarnings('ignore')"
   ]
  },
  {
   "cell_type": "markdown",
   "id": "28eae939-7fcd-4909-a5fe-8ddc8a26dff9",
   "metadata": {},
   "source": [
    "<a id = 'simple'></a>\n",
    "\n",
    "### 1. Multilayer Perceptron\n",
    "---\n",
    "Loading the test and train set CSVs files."
   ]
  },
  {
   "cell_type": "code",
   "execution_count": 5,
   "id": "9a7d56f0-856b-469b-81cc-999fe80a3334",
   "metadata": {
    "tags": []
   },
   "outputs": [
    {
     "data": {
      "text/plain": [
       "((42000, 785), (28000, 784))"
      ]
     },
     "execution_count": 5,
     "metadata": {},
     "output_type": "execute_result"
    }
   ],
   "source": [
    "df_train = pd.read_csv('../data/train.csv')\n",
    "df_test = pd.read_csv('../data/test.csv')\n",
    "df_train.shape, df_test.shape"
   ]
  },
  {
   "cell_type": "markdown",
   "id": "021cbd2c-551e-4443-ac62-8a6b2d612781",
   "metadata": {},
   "source": [
    "We need to set our independent (X) and dependent (y) variables as `numpy arrays` from the dataset."
   ]
  },
  {
   "cell_type": "code",
   "execution_count": 6,
   "id": "d88b6f43-3a51-458a-9d97-0d613afaf38f",
   "metadata": {
    "tags": []
   },
   "outputs": [
    {
     "name": "stdout",
     "output_type": "stream",
     "text": [
      "(42000, 784) (42000,)\n"
     ]
    }
   ],
   "source": [
    "X = df_train.iloc[:, 1:].to_numpy()\n",
    "y = df_train.iloc[:, 0].to_numpy()\n",
    "\n",
    "# sanity check\n",
    "print(X.shape, y.shape)"
   ]
  },
  {
   "cell_type": "markdown",
   "id": "384f7d04-5111-4feb-bde0-9d5851db193c",
   "metadata": {},
   "source": [
    "We will perform a **train_test_split()** to split our dataset into train and validation sets.\n",
    "- Validation size of 25% of the data.\n",
    "- Stratify=y to make sure distribution of the classes remain the same in both training and validation set."
   ]
  },
  {
   "cell_type": "code",
   "execution_count": 7,
   "id": "88dce51b-7e1e-42c3-ad70-236e6944d053",
   "metadata": {
    "tags": []
   },
   "outputs": [
    {
     "data": {
      "text/plain": [
       "((31500, 784), (31500,))"
      ]
     },
     "execution_count": 7,
     "metadata": {},
     "output_type": "execute_result"
    }
   ],
   "source": [
    "X_train, X_val, y_train, y_val = train_test_split(X, y, test_size=0.25, stratify=y)\n",
    "X_train.shape, y_train.shape"
   ]
  },
  {
   "cell_type": "markdown",
   "id": "b95d4afe-4c59-43d1-a8f7-de1fd9ff28f0",
   "metadata": {},
   "source": [
    "We can start by implementing a simple `linear` network.\n",
    "- Since it's linear, we would obtain better results when scaling the data."
   ]
  },
  {
   "cell_type": "code",
   "execution_count": 8,
   "id": "522e4ca3-6570-493c-b913-c19b6175863a",
   "metadata": {
    "tags": []
   },
   "outputs": [],
   "source": [
    "# instantiate standard scaler\n",
    "ss = StandardScaler()\n",
    "\n",
    "# fit and transform training\n",
    "X_train = ss.fit_transform(X_train)\n",
    "\n",
    "# ONLY transform X_val\n",
    "X_test = ss.transform(X_val)"
   ]
  },
  {
   "cell_type": "markdown",
   "id": "0ef78205-6ad4-481d-9320-61c3a5708aeb",
   "metadata": {},
   "source": [
    "Now we need to convert the 1-D `arrays` into pytorch `tensors`\n",
    "- Using type float32 to cut down memory usage\n",
    "- Using torch.long for classification labels."
   ]
  },
  {
   "cell_type": "code",
   "execution_count": 9,
   "id": "f59cd247-d25c-4573-b972-010c423e6cfa",
   "metadata": {
    "tags": []
   },
   "outputs": [
    {
     "name": "stdout",
     "output_type": "stream",
     "text": [
      "torch.Size([31500, 784]) torch.Size([31500]) torch.Size([10500, 784]) torch.Size([10500])\n"
     ]
    }
   ],
   "source": [
    "# Independent Variables\n",
    "X_train = torch.tensor(X_train, dtype=torch.float32)\n",
    "X_val = torch.tensor(X_val, dtype=torch.float32)\n",
    "\n",
    "# Dependent Variable\n",
    "y_train = torch.tensor(y_train, dtype=torch.long)\n",
    "y_val = torch.tensor(y_val, dtype=torch.long)\n",
    "\n",
    "# Printing shape of independent and dependent variables for sanity check\n",
    "print(X_train.shape, y_train.shape, X_val.shape, y_val.shape)"
   ]
  },
  {
   "cell_type": "markdown",
   "id": "559f9310-638b-4169-8ba9-ea4d9be51d87",
   "metadata": {},
   "source": [
    "Let's create a sequence of neural network layers. Inside this structure, we have:\n",
    "\n",
    "- Three layers of `nn.Linear()`\n",
    "- `nn.ReLU()` between each pair of linear layers. "
   ]
  },
  {
   "cell_type": "code",
   "execution_count": 10,
   "id": "53a452c1-b839-474d-9f9c-e6a6fc57991f",
   "metadata": {
    "tags": []
   },
   "outputs": [
    {
     "data": {
      "text/plain": [
       "Sequential(\n",
       "  (0): Linear(in_features=784, out_features=200, bias=True)\n",
       "  (1): ReLU()\n",
       "  (2): Linear(in_features=200, out_features=50, bias=True)\n",
       "  (3): ReLU()\n",
       "  (4): Linear(in_features=50, out_features=10, bias=True)\n",
       ")"
      ]
     },
     "execution_count": 10,
     "metadata": {},
     "output_type": "execute_result"
    }
   ],
   "source": [
    "# MLP layers\n",
    "simple_neural_net = nn.Sequential(\n",
    "    #providing the layers as arguments\n",
    "    nn.Linear(784, 200), \n",
    "    nn.ReLU(),\n",
    "    nn.Linear(200, 50),\n",
    "    nn.ReLU(),\n",
    "    nn.Linear(50, 10)\n",
    "    )\n",
    "simple_neural_net"
   ]
  },
  {
   "cell_type": "markdown",
   "id": "ce89ca74-4d4c-41e9-a0b1-9c3b2a5b1c42",
   "metadata": {},
   "source": [
    "<a id='training'></a>\n",
    "\n",
    "### 2. Training neural networks\n",
    "Let's train the neural network on a single sample from the training dataset. \n",
    "Here are some steps to achieve this.\n",
    "\n",
    "1. Forward Pass:\n",
    "   - Pass the input tensor through the neural network to get the output values. Check if there are any gradients stored. \n",
    "3. Loss Calculation:\n",
    "   - Calculate the loss by comparing the predicted output values with the actual target values using a loss function.\n",
    "5. Backward Pass (Backpropagation):\n",
    "   - Backward pass the loss through the network to calculate the gradient, with respect to the network parameters.\n",
    "6. Weight Update:\n",
    "   - Update the network weights to minimize the loss function. Once we have our weight adjustments we update the weights using `optimizer.step()`.\n",
    "7. Validation:\n",
    "   - Evaluate the network performance to prevent overfitting."
   ]
  },
  {
   "cell_type": "code",
   "execution_count": null,
   "id": "d2f35b68-fa74-4313-b30d-6ff2924982d1",
   "metadata": {
    "tags": []
   },
   "outputs": [],
   "source": [
    "# Creating a single row\n",
    "single_row = X_train[[0], :]\n",
    "single_target = y_train[[0]]\n",
    "\n",
    "# Instantiate Optimizer\n",
    "optimizer = torch.optim.SGD(simple_neural_net.parameters(), lr=0.01)\n",
    "\n",
    "#### Forward pass ####\n",
    "output_values = simple_neural_net(single_row)\n",
    "\n",
    "# Cross Entropy Loss\n",
    "cross_entropy_loss = nn.CrossEntropyLoss()\n",
    "loss = cross_entropy_loss(output_values, single_target)\n",
    "\n",
    "#### Backward pass ####\n",
    "loss.backward()\n",
    "\n",
    "# Update Weights\n",
    "optimizer.step()\n",
    "\n",
    "# New Outputs\n",
    "new_output = simple_neural_net(single_row)\n",
    "new_loss = cross_entropy_loss(new_output, single_target)\n",
    "\n",
    "# Comparing old and new loss\n",
    "print(f\"Old loss: {loss}\\nNew loss: {new_loss}\")"
   ]
  },
  {
   "cell_type": "markdown",
   "id": "714b3d18-de0f-4629-a06f-95de50dc25e5",
   "metadata": {},
   "source": [
    "<a id='simplenn'></a>\n",
    "\n",
    "### 3. MLP Class"
   ]
  },
  {
   "cell_type": "markdown",
   "id": "d3444a28-789c-4f20-9f08-c85278d63a69",
   "metadata": {},
   "source": [
    "This simple PyTorch's nn.Module class computes the following:\n",
    "\n",
    "- Constructor Method (__init__): This method initializes the neural network architecture and components. Inside the constructor, there are two options for defining the network architecture, but only one is currently active.\n",
    "    - Option 1 (commented out): A basic architecture with two linear layers `nn.Linear` and ReLU activation function `nn.ReLU`. The input size is 784 (typical for flattened images of 28x28 pixels), and the output size is 10 (for classification tasks with 10 classes).\n",
    "    - Option 2 (active): This is done using `nn.Sequential`, which allows stacking layers sequentially. This architecture consists of three linear layers with ReLU activation between them and dropout layers `nn.Dropout` to prevent overfitting.\n",
    "\n",
    "- Forward Method: This method defines the forward pass of the neural network. It specifies how input data flows through the network layers to generate predictions. In this case, the forward pass simply passes the input x through the defined neural network `self.neural_net` and returns the output.\n",
    "\n",
    "- Predict Method: This method makes predictions using the trained model. It takes input data x, passes it through the forward method to get predictions, and then converts the predictions into hard class labels by selecting the class with the highest probability using `torch.argmax`."
   ]
  },
  {
   "cell_type": "code",
   "execution_count": 141,
   "id": "2349e195-570a-4640-9cdf-50f02153a870",
   "metadata": {
    "tags": []
   },
   "outputs": [],
   "source": [
    "#source from BrainStation \n",
    "class SimpleNN(nn.Module):\n",
    "    \"\"\"Basic multi-layer architecture.\"\"\"\n",
    "\n",
    "    def __init__(self):\n",
    "        \"\"\"Define the main components of the network\"\"\"\n",
    "        super(SimpleNN, self).__init__()\n",
    "        \n",
    "#         self.layer_1 = nn.Linear(784, 100) # transition from input into hidden layer\n",
    "#         self.activation_1 = nn.ReLU()   # Activation function\n",
    "#         self.layer_2 = nn.Linear(100, 10)  # transition from hidden layer into output\n",
    "\n",
    "        self.neural_net = nn.Sequential(\n",
    "            nn.Linear(784, 300),\n",
    "            nn.ReLU(),\n",
    "            nn.Dropout(p=0.2),\n",
    "            nn.Linear(300, 100),\n",
    "            nn.ReLU(),\n",
    "            nn.Dropout(p=0.2),\n",
    "            nn.Linear(100, 10)\n",
    "            )\n",
    "    \n",
    "    def forward(self, x):\n",
    "        \"\"\"Perform forward pass.\"\"\"\n",
    "\n",
    "        # pass through the layers\n",
    "#         hidden_1 = self.activation_1(self.layer_1(x))\n",
    "#         output = self.layer_2(hidden_1)\n",
    "        \n",
    "        output = self.neural_net(x)\n",
    "        \n",
    "        return output\n",
    "\n",
    "    def predict(self, x):\n",
    "        '''\n",
    "        The class based interface allows you\n",
    "        add your own functionality, like a familiar\n",
    "        .predict method we all know and love\n",
    "        '''\n",
    "\n",
    "        # Predict class probabilities\n",
    "        predictions = self.forward(x)\n",
    "\n",
    "        # Find highest class prediction, notice we don't need to convert to\n",
    "        # probabilities to do hard predictions, we can simply choose the\n",
    "        # highest values\n",
    "        hard_class_predictions = torch.argmax(predictions, dim=1)\n",
    "\n",
    "        return hard_class_predictions"
   ]
  },
  {
   "cell_type": "markdown",
   "id": "10e800f6-ce5d-4cbb-87f5-6335e6f0ca8d",
   "metadata": {},
   "source": [
    "Now we can set up data loaders for training and validation datasets. We do this by setting up batch processing, shuffling the training set to prevent model overfitting, but not the validation set. "
   ]
  },
  {
   "cell_type": "code",
   "execution_count": 142,
   "id": "45b71c5f",
   "metadata": {},
   "outputs": [],
   "source": [
    "####### Setting batch size #######\n",
    "batch_size = 128\n",
    "\n",
    "# Shuffle training set\n",
    "training_loader = DataLoader(TensorDataset(X_train, y_train), batch_size=batch_size, shuffle=True)\n",
    "\n",
    "# Don't shuffle validation set\n",
    "validation_loader = DataLoader(TensorDataset(X_val, y_val), batch_size=batch_size, shuffle=False)"
   ]
  },
  {
   "cell_type": "code",
   "execution_count": 148,
   "id": "32169d58-0992-48a3-8f6a-b4cdb1febc77",
   "metadata": {
    "tags": []
   },
   "outputs": [],
   "source": [
    "####### Parameters #######\n",
    "\n",
    "#The learning rate determines the size of the step taken in the direction opposite to the gradient during optimization.\n",
    "lr = 0.0001\n",
    "# momentum = 0.9\n",
    "\n",
    "# Instantiate the model, the loss criterion, and the optimizer\n",
    "NN_model = SimpleNN()\n",
    "\n",
    "#measures the difference between two probability distributions (the predicted probabilities and the actual distribution) \n",
    "cross_entropy_loss = nn.CrossEntropyLoss() # this includes the softmax\n",
    "\n",
    "#Adam optimizer\n",
    "optimizer = torch.optim.Adam(NN_model.parameters(), lr=lr)"
   ]
  },
  {
   "cell_type": "code",
   "execution_count": 149,
   "id": "9b652540-ffb4-45f4-a893-521339b8a26c",
   "metadata": {
    "scrolled": true,
    "tags": []
   },
   "outputs": [
    {
     "data": {
      "application/vnd.jupyter.widget-view+json": {
       "model_id": "821e961e9b214d1db7b964a53527a786",
       "version_major": 2,
       "version_minor": 0
      },
      "text/plain": [
       "Total epochs:   0%|          | 0/25 [00:00<?, ?it/s]"
      ]
     },
     "metadata": {},
     "output_type": "display_data"
    },
    {
     "name": "stdout",
     "output_type": "stream",
     "text": [
      "EPOCH 1:\n",
      "LOSS train 291.43896785378456 valid 53.67276382446289\n",
      "EPOCH 2:\n",
      "LOSS train 92.54970121383667 valid 43.48079299926758\n",
      "EPOCH 3:\n",
      "LOSS train 68.57403815537691 valid 41.411441802978516\n",
      "EPOCH 4:\n",
      "LOSS train 57.68309084326029 valid 32.640869140625\n",
      "EPOCH 5:\n",
      "LOSS train 49.97240526415408 valid 26.013015747070312\n",
      "EPOCH 6:\n",
      "LOSS train 45.49149905145168 valid 23.722877502441406\n",
      "EPOCH 7:\n",
      "LOSS train 41.86474662274122 valid 18.786514282226562\n",
      "EPOCH 8:\n",
      "LOSS train 37.88256688416004 valid 18.545265197753906\n",
      "EPOCH 9:\n",
      "LOSS train 34.75450425222516 valid 16.42198371887207\n",
      "EPOCH 10:\n",
      "LOSS train 32.44486250728369 valid 15.082003593444824\n",
      "EPOCH 11:\n",
      "LOSS train 29.3101296313107 valid 13.983245849609375\n",
      "EPOCH 12:\n",
      "LOSS train 27.436663202941418 valid 15.029060363769531\n",
      "EPOCH 13:\n",
      "LOSS train 25.518775129690766 valid 13.079285621643066\n",
      "EPOCH 14:\n",
      "LOSS train 23.873682534322143 valid 13.077775001525879\n",
      "EPOCH 15:\n",
      "LOSS train 22.10942843928933 valid 13.65455150604248\n",
      "EPOCH 16:\n",
      "LOSS train 20.874877888709307 valid 11.978238105773926\n",
      "EPOCH 17:\n",
      "LOSS train 20.47538780979812 valid 13.760560035705566\n",
      "EPOCH 18:\n",
      "LOSS train 18.528439888264984 valid 12.405792236328125\n",
      "EPOCH 19:\n",
      "LOSS train 17.277707973029464 valid 11.404391288757324\n",
      "EPOCH 20:\n",
      "LOSS train 16.4832443066407 valid 11.951752662658691\n",
      "EPOCH 21:\n",
      "LOSS train 15.243119061924517 valid 12.48791790008545\n",
      "EPOCH 22:\n",
      "LOSS train 14.524143762886524 valid 10.972590446472168\n",
      "EPOCH 23:\n",
      "LOSS train 13.759755570441484 valid 10.814541816711426\n",
      "EPOCH 24:\n",
      "LOSS train 12.94849899969995 valid 11.918266296386719\n",
      "EPOCH 25:\n",
      "LOSS train 12.535310144536197 valid 12.328146934509277\n",
      "Optimization ended successfully\n"
     ]
    }
   ],
   "source": [
    "### COMMON PYTORCH RECIPE FOR TRAINING A NETWORK ###\n",
    "\n",
    "epoch_number = 0\n",
    "\n",
    "total_train_loss = []\n",
    "total_val_loss = []\n",
    "\n",
    "# Now run for 25 epochs\n",
    "for epoch in trange(25, desc=\"Total epochs: \"):\n",
    "    print('EPOCH {}:'.format(epoch_number + 1))\n",
    "    \n",
    "    ##### Training #####\n",
    "    running_loss = 0\n",
    "    last_loss = 0\n",
    "    \n",
    "    NN_model.train(True)\n",
    "    for i, data in enumerate(training_loader):\n",
    "        # Every data instance is an input + label pair\n",
    "        inputs, labels = data\n",
    "\n",
    "        # Zero your gradients for every batch!\n",
    "        optimizer.zero_grad()\n",
    "\n",
    "        # Make predictions for this batch\n",
    "        outputs = NN_model(inputs)\n",
    "\n",
    "        # Compute the loss and its gradients\n",
    "        loss = cross_entropy_loss(outputs, labels)\n",
    "        loss.backward()\n",
    "\n",
    "        # Adjust learning weights\n",
    "        optimizer.step()\n",
    "\n",
    "        # Gather data and report (reporting only after every 1000 batches, but batch size is set manually)\n",
    "        running_loss += loss.item()\n",
    "#         if i % 1000 == 999:\n",
    "#             last_loss = running_loss / 1000 # loss per batch\n",
    "#             running_loss = 0\n",
    "        #running_loss = 0\n",
    "    total_train_loss.append(running_loss)\n",
    "    \n",
    "    ##### Validation #####\n",
    "    running_vloss = 0.0\n",
    "    \n",
    "    # Set the model to evaluation mode, disabling dropout and using population\n",
    "    # statistics for batch normalization.\n",
    "    NN_model.eval()\n",
    "\n",
    "    # Disable gradient computation and reduce memory consumption.\n",
    "    with torch.no_grad():\n",
    "        for i, vdata in enumerate(validation_loader):\n",
    "            vinputs, vlabels = vdata\n",
    "            voutputs = NN_model(vinputs)\n",
    "            vloss = cross_entropy_loss(voutputs, vlabels)\n",
    "            running_vloss += vloss\n",
    "\n",
    "    avg_vloss = running_vloss / (i + 1)\n",
    "    total_val_loss.append(avg_vloss)\n",
    "    \n",
    "    epoch_number += 1\n",
    "    \n",
    "    print('LOSS train {} valid {}'.format(running_loss, avg_vloss))\n",
    "    \n",
    "#     # Clear gradients (pytorch accumulates gradients by default)\n",
    "#     optimizer.zero_grad()\n",
    "\n",
    "#     # Calculate outputs\n",
    "#     output_train_values = NN_model(X_train)\n",
    "#     output_val_values = NN_model(X_val)\n",
    "\n",
    "#     # Calculate train loss\n",
    "#     train_loss = cross_entropy_loss(output_train_values, y_train)\n",
    "#     total_train_loss.append(train_loss.detach().numpy())\n",
    "    \n",
    "#     # Calculate validation loss\n",
    "#     val_loss = cross_entropy_loss(output_val_values, y_val)\n",
    "#     total_val_loss.append(val_loss.detach().numpy())\n",
    "    \n",
    "#     # Backpropagation & weight adjustment\n",
    "#     train_loss.backward()\n",
    "#     optimizer.step()\n",
    "\n",
    "print(f\"Optimization ended successfully\")"
   ]
  },
  {
   "cell_type": "markdown",
   "id": "24befa94-48a2-4b5a-a19d-194fc490c5b6",
   "metadata": {},
   "source": [
    "Now we can get the accuracy score for our training predictions and print it out. "
   ]
  },
  {
   "cell_type": "markdown",
   "id": "eb7a0e0d-2fdf-4727-9eca-c83a09762777",
   "metadata": {},
   "source": [
    "<a id='acc'></a>\n",
    "\n",
    "### 4. Accuracy Scores"
   ]
  },
  {
   "cell_type": "code",
   "execution_count": 150,
   "id": "8f361af1",
   "metadata": {
    "tags": []
   },
   "outputs": [
    {
     "name": "stdout",
     "output_type": "stream",
     "text": [
      "Accuracy score on train set: 99.36%\n"
     ]
    }
   ],
   "source": [
    "# Make predictions\n",
    "binary_classification = NN_model.predict(X_train)\n",
    "\n",
    "# Calculate the score on the test set\n",
    "accuracy = accuracy_score(y_train, binary_classification)\n",
    "print(f\"Accuracy score on train set: {round(accuracy * 100, 2)}%\")"
   ]
  },
  {
   "cell_type": "code",
   "execution_count": 151,
   "id": "bd0ba3a4-fd43-41ce-aa0d-7d2dba34eb5b",
   "metadata": {
    "tags": []
   },
   "outputs": [
    {
     "name": "stdout",
     "output_type": "stream",
     "text": [
      "Accuracy score on test set: 93.83%\n"
     ]
    }
   ],
   "source": [
    "# Make predictions\n",
    "binary_classification = NN_model.predict(X_val)\n",
    "\n",
    "# Calculate the score on the test set\n",
    "accuracy = accuracy_score(y_val, binary_classification)\n",
    "print(f\"Accuracy score on test set: {round(accuracy * 100, 2)}%\")"
   ]
  },
  {
   "cell_type": "code",
   "execution_count": 152,
   "id": "d30c2195",
   "metadata": {},
   "outputs": [
    {
     "data": {
      "image/png": "[encoded data removed]",
      "text/plain": [
       "<Figure size 640x480 with 1 Axes>"
      ]
     },
     "metadata": {},
     "output_type": "display_data"
    }
   ],
   "source": [
    "plt.figure()\n",
    "plt.plot(total_train_loss, label=\"Training Loss\")\n",
    "plt.plot(total_val_loss, label=\"Validation Loss\")\n",
    "plt.xlabel(\"Epoch\")\n",
    "plt.ylabel(\"Loss\")\n",
    "plt.legend()\n",
    "plt.show()"
   ]
  },
  {
   "cell_type": "markdown",
   "id": "fa9d5d37",
   "metadata": {},
   "source": [
    "> Validation loss is lower than training loss possibly because of our dropout layers."
   ]
  },
  {
   "cell_type": "code",
   "execution_count": null,
   "id": "6e08e825",
   "metadata": {},
   "outputs": [],
   "source": []
  }
 ],
 "metadata": {
  "kernelspec": {
   "display_name": "deeplearning",
   "language": "python",
   "name": "deeplearning"
  },
  "language_info": {
   "codemirror_mode": {
    "name": "ipython",
    "version": 3
   },
   "file_extension": ".py",
   "mimetype": "text/x-python",
   "name": "python",
   "nbconvert_exporter": "python",
   "pygments_lexer": "ipython3",
   "version": "3.10.1"
  }
 },
 "nbformat": 4,
 "nbformat_minor": 5
}

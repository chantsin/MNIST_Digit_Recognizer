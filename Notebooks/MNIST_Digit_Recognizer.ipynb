{
 "cells": [
  {
   "cell_type": "markdown",
   "id": "13c44330-f37e-4cfb-bbef-4695df7d56ae",
   "metadata": {},
   "source": [
    "# MNIST Digit Recognizer\n",
    "\n",
    "**Authors: Clement, Calvin, Tilova**\n",
    "\n",
    "---\n",
    "\n",
    "Welcome to the very first project of the **Tequila Chicas**! We will be classifying images of hand written numbers to their corresponding digits. This project follows the guidelines and uses the data set provide from the Kaggle Competition [here](https://www.kaggle.com/competitions/digit-recognizer/overview). \n",
    "\n",
    "## Introduction  \n",
    "\n",
    "In this notebook we will be going over preliminary exploratory data analysis (EDA) of our MNIST dataset as well as a baseline model to get a sense of model accuracies. We will also use our baseline model to generate a prediction of the test set to submit on Kaggle "
   ]
  },
  {
   "cell_type": "markdown",
   "id": "2c594525-5193-4f06-a4f5-bd31f5d163d3",
   "metadata": {},
   "source": [
    "<a id = 'toc'></a>\n",
    "    \n",
    "## Table of Contents\n",
    "---\n",
    "1. [Data Wrangling](#wrangle)\n",
    "2. [Exploratory Data Analysis](#eda)\\\n",
    "    2.1 [Exploring the Images](#images)\\\n",
    "    2.2 [Digit Variation](#variation)\\\n",
    "    2.3 [Biggest Variation](#biggest)\\\n",
    "    2.4 [Class Distribution](#distribution)\n",
    "3. [Baseline Modelling](#base)\n",
    "4. [Generating Predictions](#predictions)\n",
    "5. [Conclusion](#conclusion)"
   ]
  },
  {
   "cell_type": "markdown",
   "id": "2d06b31b",
   "metadata": {},
   "source": [
    "**Importing Libraries**"
   ]
  },
  {
   "cell_type": "code",
   "execution_count": 3,
   "id": "433a1371",
   "metadata": {
    "tags": []
   },
   "outputs": [
    {
     "data": {
      "application/javascript": [
       "IPython.notebook.set_autosave_interval(300000)"
      ]
     },
     "metadata": {},
     "output_type": "display_data"
    },
    {
     "name": "stdout",
     "output_type": "stream",
     "text": [
      "Autosaving every 300 seconds\n"
     ]
    }
   ],
   "source": [
    "import numpy as np\n",
    "import pandas as pd\n",
    "\n",
    "# data visualization\n",
    "import matplotlib.pyplot as plt\n",
    "import seaborn as sns\n",
    "\n",
    "# Train_Test_Split\n",
    "from sklearn.model_selection import train_test_split\n",
    "\n",
    "# classification model\n",
    "from sklearn.linear_model import LogisticRegression\n",
    "\n",
    "# metrics\n",
    "from sklearn.metrics import confusion_matrix, ConfusionMatrixDisplay, classification_report\n",
    "\n",
    "# ignores the filter warnings\n",
    "import warnings\n",
    "warnings.filterwarnings('ignore')\n",
    "\n",
    "%autosave 300"
   ]
  },
  {
   "cell_type": "markdown",
   "id": "1d8a06b8-45cd-40e0-8cb2-dbef58dd169f",
   "metadata": {},
   "source": [
    "<a id = 'wrangle'></a>\n",
    "### 1. Data Wrangling\n",
    "---\n",
    "Loading the test and train set CSVs files."
   ]
  },
  {
   "cell_type": "code",
   "execution_count": 4,
   "id": "cb234fe9-8ec5-4038-86aa-76ad49125609",
   "metadata": {
    "tags": []
   },
   "outputs": [
    {
     "data": {
      "text/plain": [
       "((42000, 785), (28000, 784))"
      ]
     },
     "execution_count": 4,
     "metadata": {},
     "output_type": "execute_result"
    }
   ],
   "source": [
    "df_train = pd.read_csv('../data/train.csv')\n",
    "df_test = pd.read_csv('../data/test.csv')\n",
    "df_train.shape, df_test.shape"
   ]
  },
  {
   "cell_type": "code",
   "execution_count": 84,
   "id": "fe1e71f5",
   "metadata": {},
   "outputs": [
    {
     "name": "stdout",
     "output_type": "stream",
     "text": [
      "<class 'pandas.core.frame.DataFrame'>\n",
      "RangeIndex: 42000 entries, 0 to 41999\n",
      "Columns: 785 entries, label to pixel783\n",
      "dtypes: int64(785)\n",
      "memory usage: 251.5 MB\n"
     ]
    }
   ],
   "source": [
    "df_train.info()"
   ]
  },
  {
   "cell_type": "code",
   "execution_count": 85,
   "id": "5107ae82",
   "metadata": {},
   "outputs": [
    {
     "name": "stdout",
     "output_type": "stream",
     "text": [
      "<class 'pandas.core.frame.DataFrame'>\n",
      "RangeIndex: 28000 entries, 0 to 27999\n",
      "Columns: 784 entries, pixel0 to pixel783\n",
      "dtypes: int64(784)\n",
      "memory usage: 167.5 MB\n"
     ]
    }
   ],
   "source": [
    "df_test.info()"
   ]
  },
  {
   "cell_type": "code",
   "execution_count": 5,
   "id": "c489bb95-4a6a-404e-871e-410b636725a6",
   "metadata": {
    "tags": []
   },
   "outputs": [
    {
     "data": {
      "text/html": [
       "<div>\n",
       "<style scoped>\n",
       "    .dataframe tbody tr th:only-of-type {\n",
       "        vertical-align: middle;\n",
       "    }\n",
       "\n",
       "    .dataframe tbody tr th {\n",
       "        vertical-align: top;\n",
       "    }\n",
       "\n",
       "    .dataframe thead th {\n",
       "        text-align: right;\n",
       "    }\n",
       "</style>\n",
       "<table border=\"1\" class=\"dataframe\">\n",
       "  <thead>\n",
       "    <tr style=\"text-align: right;\">\n",
       "      <th></th>\n",
       "      <th>label</th>\n",
       "      <th>pixel0</th>\n",
       "      <th>pixel1</th>\n",
       "      <th>pixel2</th>\n",
       "      <th>pixel3</th>\n",
       "      <th>pixel4</th>\n",
       "      <th>pixel5</th>\n",
       "      <th>pixel6</th>\n",
       "      <th>pixel7</th>\n",
       "      <th>pixel8</th>\n",
       "      <th>...</th>\n",
       "      <th>pixel774</th>\n",
       "      <th>pixel775</th>\n",
       "      <th>pixel776</th>\n",
       "      <th>pixel777</th>\n",
       "      <th>pixel778</th>\n",
       "      <th>pixel779</th>\n",
       "      <th>pixel780</th>\n",
       "      <th>pixel781</th>\n",
       "      <th>pixel782</th>\n",
       "      <th>pixel783</th>\n",
       "    </tr>\n",
       "  </thead>\n",
       "  <tbody>\n",
       "    <tr>\n",
       "      <th>0</th>\n",
       "      <td>1</td>\n",
       "      <td>0</td>\n",
       "      <td>0</td>\n",
       "      <td>0</td>\n",
       "      <td>0</td>\n",
       "      <td>0</td>\n",
       "      <td>0</td>\n",
       "      <td>0</td>\n",
       "      <td>0</td>\n",
       "      <td>0</td>\n",
       "      <td>...</td>\n",
       "      <td>0</td>\n",
       "      <td>0</td>\n",
       "      <td>0</td>\n",
       "      <td>0</td>\n",
       "      <td>0</td>\n",
       "      <td>0</td>\n",
       "      <td>0</td>\n",
       "      <td>0</td>\n",
       "      <td>0</td>\n",
       "      <td>0</td>\n",
       "    </tr>\n",
       "    <tr>\n",
       "      <th>1</th>\n",
       "      <td>0</td>\n",
       "      <td>0</td>\n",
       "      <td>0</td>\n",
       "      <td>0</td>\n",
       "      <td>0</td>\n",
       "      <td>0</td>\n",
       "      <td>0</td>\n",
       "      <td>0</td>\n",
       "      <td>0</td>\n",
       "      <td>0</td>\n",
       "      <td>...</td>\n",
       "      <td>0</td>\n",
       "      <td>0</td>\n",
       "      <td>0</td>\n",
       "      <td>0</td>\n",
       "      <td>0</td>\n",
       "      <td>0</td>\n",
       "      <td>0</td>\n",
       "      <td>0</td>\n",
       "      <td>0</td>\n",
       "      <td>0</td>\n",
       "    </tr>\n",
       "    <tr>\n",
       "      <th>2</th>\n",
       "      <td>1</td>\n",
       "      <td>0</td>\n",
       "      <td>0</td>\n",
       "      <td>0</td>\n",
       "      <td>0</td>\n",
       "      <td>0</td>\n",
       "      <td>0</td>\n",
       "      <td>0</td>\n",
       "      <td>0</td>\n",
       "      <td>0</td>\n",
       "      <td>...</td>\n",
       "      <td>0</td>\n",
       "      <td>0</td>\n",
       "      <td>0</td>\n",
       "      <td>0</td>\n",
       "      <td>0</td>\n",
       "      <td>0</td>\n",
       "      <td>0</td>\n",
       "      <td>0</td>\n",
       "      <td>0</td>\n",
       "      <td>0</td>\n",
       "    </tr>\n",
       "    <tr>\n",
       "      <th>3</th>\n",
       "      <td>4</td>\n",
       "      <td>0</td>\n",
       "      <td>0</td>\n",
       "      <td>0</td>\n",
       "      <td>0</td>\n",
       "      <td>0</td>\n",
       "      <td>0</td>\n",
       "      <td>0</td>\n",
       "      <td>0</td>\n",
       "      <td>0</td>\n",
       "      <td>...</td>\n",
       "      <td>0</td>\n",
       "      <td>0</td>\n",
       "      <td>0</td>\n",
       "      <td>0</td>\n",
       "      <td>0</td>\n",
       "      <td>0</td>\n",
       "      <td>0</td>\n",
       "      <td>0</td>\n",
       "      <td>0</td>\n",
       "      <td>0</td>\n",
       "    </tr>\n",
       "    <tr>\n",
       "      <th>4</th>\n",
       "      <td>0</td>\n",
       "      <td>0</td>\n",
       "      <td>0</td>\n",
       "      <td>0</td>\n",
       "      <td>0</td>\n",
       "      <td>0</td>\n",
       "      <td>0</td>\n",
       "      <td>0</td>\n",
       "      <td>0</td>\n",
       "      <td>0</td>\n",
       "      <td>...</td>\n",
       "      <td>0</td>\n",
       "      <td>0</td>\n",
       "      <td>0</td>\n",
       "      <td>0</td>\n",
       "      <td>0</td>\n",
       "      <td>0</td>\n",
       "      <td>0</td>\n",
       "      <td>0</td>\n",
       "      <td>0</td>\n",
       "      <td>0</td>\n",
       "    </tr>\n",
       "  </tbody>\n",
       "</table>\n",
       "<p>5 rows × 785 columns</p>\n",
       "</div>"
      ],
      "text/plain": [
       "   label  pixel0  pixel1  pixel2  pixel3  pixel4  pixel5  pixel6  pixel7  \\\n",
       "0      1       0       0       0       0       0       0       0       0   \n",
       "1      0       0       0       0       0       0       0       0       0   \n",
       "2      1       0       0       0       0       0       0       0       0   \n",
       "3      4       0       0       0       0       0       0       0       0   \n",
       "4      0       0       0       0       0       0       0       0       0   \n",
       "\n",
       "   pixel8  ...  pixel774  pixel775  pixel776  pixel777  pixel778  pixel779  \\\n",
       "0       0  ...         0         0         0         0         0         0   \n",
       "1       0  ...         0         0         0         0         0         0   \n",
       "2       0  ...         0         0         0         0         0         0   \n",
       "3       0  ...         0         0         0         0         0         0   \n",
       "4       0  ...         0         0         0         0         0         0   \n",
       "\n",
       "   pixel780  pixel781  pixel782  pixel783  \n",
       "0         0         0         0         0  \n",
       "1         0         0         0         0  \n",
       "2         0         0         0         0  \n",
       "3         0         0         0         0  \n",
       "4         0         0         0         0  \n",
       "\n",
       "[5 rows x 785 columns]"
      ]
     },
     "execution_count": 5,
     "metadata": {},
     "output_type": "execute_result"
    }
   ],
   "source": [
    "df_train.head()"
   ]
  },
  {
   "cell_type": "markdown",
   "id": "c3a22f40-c7ea-4ba9-8fed-d99945d92a38",
   "metadata": {},
   "source": [
    "Checking for null values in the dataframe."
   ]
  },
  {
   "cell_type": "code",
   "execution_count": 6,
   "id": "99be08f5-6ced-459e-b380-da9d64a958db",
   "metadata": {
    "tags": []
   },
   "outputs": [
    {
     "data": {
      "text/plain": [
       "0"
      ]
     },
     "execution_count": 6,
     "metadata": {},
     "output_type": "execute_result"
    }
   ],
   "source": [
    "df_train.isna().sum().sum()"
   ]
  },
  {
   "cell_type": "markdown",
   "id": "83fdffd0-fbec-4271-a7c3-3cf7e91c0715",
   "metadata": {},
   "source": [
    "Checking if there are any duplicates."
   ]
  },
  {
   "cell_type": "code",
   "execution_count": 7,
   "id": "d830a70c-2e0f-4bc2-952d-1acb30014f05",
   "metadata": {
    "tags": []
   },
   "outputs": [
    {
     "data": {
      "text/plain": [
       "0"
      ]
     },
     "execution_count": 7,
     "metadata": {},
     "output_type": "execute_result"
    }
   ],
   "source": [
    "df_train.duplicated().sum()"
   ]
  },
  {
   "cell_type": "markdown",
   "id": "027fc1d9-260c-47ba-9390-170660844477",
   "metadata": {},
   "source": [
    "Checking the data types of each column. To ensure they are appropriate for the data they represent."
   ]
  },
  {
   "cell_type": "code",
   "execution_count": 8,
   "id": "409d82d3-6395-4a74-8ced-62f2d1a2cca8",
   "metadata": {
    "tags": []
   },
   "outputs": [
    {
     "data": {
      "text/plain": [
       "label       int64\n",
       "pixel0      int64\n",
       "pixel1      int64\n",
       "pixel2      int64\n",
       "pixel3      int64\n",
       "            ...  \n",
       "pixel779    int64\n",
       "pixel780    int64\n",
       "pixel781    int64\n",
       "pixel782    int64\n",
       "pixel783    int64\n",
       "Length: 785, dtype: object"
      ]
     },
     "execution_count": 8,
     "metadata": {},
     "output_type": "execute_result"
    }
   ],
   "source": [
    "df_train.dtypes"
   ]
  },
  {
   "cell_type": "markdown",
   "id": "924e146a-a582-4c80-b0b7-e7036bc29b71",
   "metadata": {},
   "source": [
    "Great it looks like we have no duplicates or missing values in the dataset. Let's look at some of the summary stats of the data."
   ]
  },
  {
   "cell_type": "code",
   "execution_count": 9,
   "id": "132910da-0222-422f-a32a-45335d7537e0",
   "metadata": {},
   "outputs": [
    {
     "data": {
      "text/html": [
       "<div>\n",
       "<style scoped>\n",
       "    .dataframe tbody tr th:only-of-type {\n",
       "        vertical-align: middle;\n",
       "    }\n",
       "\n",
       "    .dataframe tbody tr th {\n",
       "        vertical-align: top;\n",
       "    }\n",
       "\n",
       "    .dataframe thead th {\n",
       "        text-align: right;\n",
       "    }\n",
       "</style>\n",
       "<table border=\"1\" class=\"dataframe\">\n",
       "  <thead>\n",
       "    <tr style=\"text-align: right;\">\n",
       "      <th></th>\n",
       "      <th>label</th>\n",
       "      <th>pixel0</th>\n",
       "      <th>pixel1</th>\n",
       "      <th>pixel2</th>\n",
       "      <th>pixel3</th>\n",
       "      <th>pixel4</th>\n",
       "      <th>pixel5</th>\n",
       "      <th>pixel6</th>\n",
       "      <th>pixel7</th>\n",
       "      <th>pixel8</th>\n",
       "      <th>...</th>\n",
       "      <th>pixel774</th>\n",
       "      <th>pixel775</th>\n",
       "      <th>pixel776</th>\n",
       "      <th>pixel777</th>\n",
       "      <th>pixel778</th>\n",
       "      <th>pixel779</th>\n",
       "      <th>pixel780</th>\n",
       "      <th>pixel781</th>\n",
       "      <th>pixel782</th>\n",
       "      <th>pixel783</th>\n",
       "    </tr>\n",
       "  </thead>\n",
       "  <tbody>\n",
       "    <tr>\n",
       "      <th>count</th>\n",
       "      <td>42000.000000</td>\n",
       "      <td>42000.0</td>\n",
       "      <td>42000.0</td>\n",
       "      <td>42000.0</td>\n",
       "      <td>42000.0</td>\n",
       "      <td>42000.0</td>\n",
       "      <td>42000.0</td>\n",
       "      <td>42000.0</td>\n",
       "      <td>42000.0</td>\n",
       "      <td>42000.0</td>\n",
       "      <td>...</td>\n",
       "      <td>42000.000000</td>\n",
       "      <td>42000.000000</td>\n",
       "      <td>42000.000000</td>\n",
       "      <td>42000.00000</td>\n",
       "      <td>42000.000000</td>\n",
       "      <td>42000.000000</td>\n",
       "      <td>42000.0</td>\n",
       "      <td>42000.0</td>\n",
       "      <td>42000.0</td>\n",
       "      <td>42000.0</td>\n",
       "    </tr>\n",
       "    <tr>\n",
       "      <th>mean</th>\n",
       "      <td>4.456643</td>\n",
       "      <td>0.0</td>\n",
       "      <td>0.0</td>\n",
       "      <td>0.0</td>\n",
       "      <td>0.0</td>\n",
       "      <td>0.0</td>\n",
       "      <td>0.0</td>\n",
       "      <td>0.0</td>\n",
       "      <td>0.0</td>\n",
       "      <td>0.0</td>\n",
       "      <td>...</td>\n",
       "      <td>0.219286</td>\n",
       "      <td>0.117095</td>\n",
       "      <td>0.059024</td>\n",
       "      <td>0.02019</td>\n",
       "      <td>0.017238</td>\n",
       "      <td>0.002857</td>\n",
       "      <td>0.0</td>\n",
       "      <td>0.0</td>\n",
       "      <td>0.0</td>\n",
       "      <td>0.0</td>\n",
       "    </tr>\n",
       "    <tr>\n",
       "      <th>std</th>\n",
       "      <td>2.887730</td>\n",
       "      <td>0.0</td>\n",
       "      <td>0.0</td>\n",
       "      <td>0.0</td>\n",
       "      <td>0.0</td>\n",
       "      <td>0.0</td>\n",
       "      <td>0.0</td>\n",
       "      <td>0.0</td>\n",
       "      <td>0.0</td>\n",
       "      <td>0.0</td>\n",
       "      <td>...</td>\n",
       "      <td>6.312890</td>\n",
       "      <td>4.633819</td>\n",
       "      <td>3.274488</td>\n",
       "      <td>1.75987</td>\n",
       "      <td>1.894498</td>\n",
       "      <td>0.414264</td>\n",
       "      <td>0.0</td>\n",
       "      <td>0.0</td>\n",
       "      <td>0.0</td>\n",
       "      <td>0.0</td>\n",
       "    </tr>\n",
       "    <tr>\n",
       "      <th>min</th>\n",
       "      <td>0.000000</td>\n",
       "      <td>0.0</td>\n",
       "      <td>0.0</td>\n",
       "      <td>0.0</td>\n",
       "      <td>0.0</td>\n",
       "      <td>0.0</td>\n",
       "      <td>0.0</td>\n",
       "      <td>0.0</td>\n",
       "      <td>0.0</td>\n",
       "      <td>0.0</td>\n",
       "      <td>...</td>\n",
       "      <td>0.000000</td>\n",
       "      <td>0.000000</td>\n",
       "      <td>0.000000</td>\n",
       "      <td>0.00000</td>\n",
       "      <td>0.000000</td>\n",
       "      <td>0.000000</td>\n",
       "      <td>0.0</td>\n",
       "      <td>0.0</td>\n",
       "      <td>0.0</td>\n",
       "      <td>0.0</td>\n",
       "    </tr>\n",
       "    <tr>\n",
       "      <th>25%</th>\n",
       "      <td>2.000000</td>\n",
       "      <td>0.0</td>\n",
       "      <td>0.0</td>\n",
       "      <td>0.0</td>\n",
       "      <td>0.0</td>\n",
       "      <td>0.0</td>\n",
       "      <td>0.0</td>\n",
       "      <td>0.0</td>\n",
       "      <td>0.0</td>\n",
       "      <td>0.0</td>\n",
       "      <td>...</td>\n",
       "      <td>0.000000</td>\n",
       "      <td>0.000000</td>\n",
       "      <td>0.000000</td>\n",
       "      <td>0.00000</td>\n",
       "      <td>0.000000</td>\n",
       "      <td>0.000000</td>\n",
       "      <td>0.0</td>\n",
       "      <td>0.0</td>\n",
       "      <td>0.0</td>\n",
       "      <td>0.0</td>\n",
       "    </tr>\n",
       "    <tr>\n",
       "      <th>50%</th>\n",
       "      <td>4.000000</td>\n",
       "      <td>0.0</td>\n",
       "      <td>0.0</td>\n",
       "      <td>0.0</td>\n",
       "      <td>0.0</td>\n",
       "      <td>0.0</td>\n",
       "      <td>0.0</td>\n",
       "      <td>0.0</td>\n",
       "      <td>0.0</td>\n",
       "      <td>0.0</td>\n",
       "      <td>...</td>\n",
       "      <td>0.000000</td>\n",
       "      <td>0.000000</td>\n",
       "      <td>0.000000</td>\n",
       "      <td>0.00000</td>\n",
       "      <td>0.000000</td>\n",
       "      <td>0.000000</td>\n",
       "      <td>0.0</td>\n",
       "      <td>0.0</td>\n",
       "      <td>0.0</td>\n",
       "      <td>0.0</td>\n",
       "    </tr>\n",
       "    <tr>\n",
       "      <th>75%</th>\n",
       "      <td>7.000000</td>\n",
       "      <td>0.0</td>\n",
       "      <td>0.0</td>\n",
       "      <td>0.0</td>\n",
       "      <td>0.0</td>\n",
       "      <td>0.0</td>\n",
       "      <td>0.0</td>\n",
       "      <td>0.0</td>\n",
       "      <td>0.0</td>\n",
       "      <td>0.0</td>\n",
       "      <td>...</td>\n",
       "      <td>0.000000</td>\n",
       "      <td>0.000000</td>\n",
       "      <td>0.000000</td>\n",
       "      <td>0.00000</td>\n",
       "      <td>0.000000</td>\n",
       "      <td>0.000000</td>\n",
       "      <td>0.0</td>\n",
       "      <td>0.0</td>\n",
       "      <td>0.0</td>\n",
       "      <td>0.0</td>\n",
       "    </tr>\n",
       "    <tr>\n",
       "      <th>max</th>\n",
       "      <td>9.000000</td>\n",
       "      <td>0.0</td>\n",
       "      <td>0.0</td>\n",
       "      <td>0.0</td>\n",
       "      <td>0.0</td>\n",
       "      <td>0.0</td>\n",
       "      <td>0.0</td>\n",
       "      <td>0.0</td>\n",
       "      <td>0.0</td>\n",
       "      <td>0.0</td>\n",
       "      <td>...</td>\n",
       "      <td>254.000000</td>\n",
       "      <td>254.000000</td>\n",
       "      <td>253.000000</td>\n",
       "      <td>253.00000</td>\n",
       "      <td>254.000000</td>\n",
       "      <td>62.000000</td>\n",
       "      <td>0.0</td>\n",
       "      <td>0.0</td>\n",
       "      <td>0.0</td>\n",
       "      <td>0.0</td>\n",
       "    </tr>\n",
       "  </tbody>\n",
       "</table>\n",
       "<p>8 rows × 785 columns</p>\n",
       "</div>"
      ],
      "text/plain": [
       "              label   pixel0   pixel1   pixel2   pixel3   pixel4   pixel5  \\\n",
       "count  42000.000000  42000.0  42000.0  42000.0  42000.0  42000.0  42000.0   \n",
       "mean       4.456643      0.0      0.0      0.0      0.0      0.0      0.0   \n",
       "std        2.887730      0.0      0.0      0.0      0.0      0.0      0.0   \n",
       "min        0.000000      0.0      0.0      0.0      0.0      0.0      0.0   \n",
       "25%        2.000000      0.0      0.0      0.0      0.0      0.0      0.0   \n",
       "50%        4.000000      0.0      0.0      0.0      0.0      0.0      0.0   \n",
       "75%        7.000000      0.0      0.0      0.0      0.0      0.0      0.0   \n",
       "max        9.000000      0.0      0.0      0.0      0.0      0.0      0.0   \n",
       "\n",
       "        pixel6   pixel7   pixel8  ...      pixel774      pixel775  \\\n",
       "count  42000.0  42000.0  42000.0  ...  42000.000000  42000.000000   \n",
       "mean       0.0      0.0      0.0  ...      0.219286      0.117095   \n",
       "std        0.0      0.0      0.0  ...      6.312890      4.633819   \n",
       "min        0.0      0.0      0.0  ...      0.000000      0.000000   \n",
       "25%        0.0      0.0      0.0  ...      0.000000      0.000000   \n",
       "50%        0.0      0.0      0.0  ...      0.000000      0.000000   \n",
       "75%        0.0      0.0      0.0  ...      0.000000      0.000000   \n",
       "max        0.0      0.0      0.0  ...    254.000000    254.000000   \n",
       "\n",
       "           pixel776     pixel777      pixel778      pixel779  pixel780  \\\n",
       "count  42000.000000  42000.00000  42000.000000  42000.000000   42000.0   \n",
       "mean       0.059024      0.02019      0.017238      0.002857       0.0   \n",
       "std        3.274488      1.75987      1.894498      0.414264       0.0   \n",
       "min        0.000000      0.00000      0.000000      0.000000       0.0   \n",
       "25%        0.000000      0.00000      0.000000      0.000000       0.0   \n",
       "50%        0.000000      0.00000      0.000000      0.000000       0.0   \n",
       "75%        0.000000      0.00000      0.000000      0.000000       0.0   \n",
       "max      253.000000    253.00000    254.000000     62.000000       0.0   \n",
       "\n",
       "       pixel781  pixel782  pixel783  \n",
       "count   42000.0   42000.0   42000.0  \n",
       "mean        0.0       0.0       0.0  \n",
       "std         0.0       0.0       0.0  \n",
       "min         0.0       0.0       0.0  \n",
       "25%         0.0       0.0       0.0  \n",
       "50%         0.0       0.0       0.0  \n",
       "75%         0.0       0.0       0.0  \n",
       "max         0.0       0.0       0.0  \n",
       "\n",
       "[8 rows x 785 columns]"
      ]
     },
     "execution_count": 9,
     "metadata": {},
     "output_type": "execute_result"
    }
   ],
   "source": [
    "df_train.describe()"
   ]
  },
  {
   "cell_type": "markdown",
   "id": "6cd34d51-cbbe-480e-857d-43a60d75f3b3",
   "metadata": {},
   "source": [
    "The labels seem to be pretty evenly distributed since the mean and median are roughly in the middle of the range from 0-9. We should explore this further in the EDA by plotting out the distributions."
   ]
  },
  {
   "cell_type": "markdown",
   "id": "db8aad10",
   "metadata": {},
   "source": [
    "<a id = 'eda'></a>\n",
    "### 2. Exploratory Data Analysis\n",
    "---\n",
    "<a id = 'images'></a>\n",
    "#### 2.1 Exploring The Images\n",
    "\n",
    "Since the label and pixels are in the same dataframe we will need to separate them into X (independent) and y (dependent) variables."
   ]
  },
  {
   "cell_type": "code",
   "execution_count": 10,
   "id": "8440d7d2-333f-4238-a2cd-8daec8216950",
   "metadata": {
    "tags": []
   },
   "outputs": [
    {
     "name": "stdout",
     "output_type": "stream",
     "text": [
      "(42000, 784) (42000,)\n"
     ]
    }
   ],
   "source": [
    "X = df_train.iloc[:, 1:]\n",
    "y = df_train.iloc[:, 0]\n",
    "\n",
    "# sanity check\n",
    "print(X.shape, y.shape)"
   ]
  },
  {
   "cell_type": "markdown",
   "id": "e2af8d9a-e025-4651-b201-b2052afed415",
   "metadata": {},
   "source": [
    "**Important Notes**\n",
    "- There are 42000 rows or images with 784 columns or (28 by 28) pixels. This means that the dataset is already flattened out for us.\n",
    "- We will need to reshape the 1D row into a 2D row with the reshape function from numpy.\n",
    "\n",
    "Using -1 as a dimension in the reshape() function automatically infers the size for that dimension based on the size of the original array and the other specified dimensions."
   ]
  },
  {
   "cell_type": "code",
   "execution_count": 11,
   "id": "e68659be",
   "metadata": {},
   "outputs": [],
   "source": [
    "images = np.array(X).reshape(-1, 28, 28)"
   ]
  },
  {
   "cell_type": "code",
   "execution_count": 12,
   "id": "3937f978",
   "metadata": {},
   "outputs": [
    {
     "data": {
      "text/plain": [
       "(42000, 28, 28)"
      ]
     },
     "execution_count": 12,
     "metadata": {},
     "output_type": "execute_result"
    }
   ],
   "source": [
    "images.shape"
   ]
  },
  {
   "cell_type": "code",
   "execution_count": 13,
   "id": "7cfbc86e-5604-4073-9b2c-77863c5042cd",
   "metadata": {
    "tags": []
   },
   "outputs": [
    {
     "data": {
      "image/png": "[encoded data removed]",
      "text/plain": [
       "<Figure size 640x480 with 1 Axes>"
      ]
     },
     "metadata": {},
     "output_type": "display_data"
    }
   ],
   "source": [
    "plt.figure()\n",
    "plt.imshow(images[0], cmap=\"gray_r\")   # plt.imshow() displays the data array as an image\n",
    "plt.show()"
   ]
  },
  {
   "cell_type": "markdown",
   "id": "7425b83d-c2ad-4859-84dd-4db7fe98d4f8",
   "metadata": {},
   "source": [
    "For our first hand drawn image, this definitely looks like a 1. Next, we will iterate through the dataset and see what each class from 0-9 look like as images:\n",
    "1. We can make a subplot of 10 figures\n",
    "2. Create a For loop so that our labels (y) matches the 2D array.\n",
    "\n",
    "**Code explanation**\n",
    "- The range(10) generates values from 0 to 9\n",
    "- The axes.ravel() flattens the 2D array of the image into a 1D array\n",
    "- The zip() numpy function combines the two iterables where each iteration pairs a digit class with a subplot."
   ]
  },
  {
   "cell_type": "code",
   "execution_count": 14,
   "id": "ce75e134-686d-4a65-a98f-7ba7af7b9d57",
   "metadata": {
    "scrolled": false,
    "tags": []
   },
   "outputs": [
    {
     "data": {
      "image/png": "[encoded data removed]",
      "text/plain": [
       "<Figure size 900x500 with 10 Axes>"
      ]
     },
     "metadata": {},
     "output_type": "display_data"
    }
   ],
   "source": [
    "fig, axes = plt.subplots(2, 5, figsize=(9, 5), sharex=True, sharey=True)\n",
    "for target, ax in zip(range(10), axes.ravel()):\n",
    "    ax.imshow(images[y==target][0], cmap = 'gray_r')\n",
    "    ax.set_title(target)\n",
    "\n",
    "fig.suptitle(\"Sample hand drawing for each digit from $0-9$\".title())\n",
    "fig.tight_layout()\n",
    "plt.show()"
   ]
  },
  {
   "cell_type": "markdown",
   "id": "098b9be3-8296-4036-9585-6a05bd909315",
   "metadata": {},
   "source": [
    "Wow some of these numbers are horribly drawn and will be difficult for even humans to read! Next we can use np.mean() to average out what the average hand drawn 0-9 would look like."
   ]
  },
  {
   "cell_type": "code",
   "execution_count": 15,
   "id": "c571a046-2f75-4c51-b54f-9ab0424ba0bb",
   "metadata": {
    "scrolled": false,
    "tags": []
   },
   "outputs": [
    {
     "data": {
      "image/png": "[encoded data removed]",
      "text/plain": [
       "<Figure size 900x500 with 10 Axes>"
      ]
     },
     "metadata": {},
     "output_type": "display_data"
    }
   ],
   "source": [
    "fig, axes = plt.subplots(2, 5, figsize=(9, 5), sharex=True, sharey=True)\n",
    "for target, ax in zip(range(10), axes.ravel()):\n",
    "    ax.imshow(np.mean(images[y==target], axis=0), cmap = 'gray_r')\n",
    "    ax.set_title(target)\n",
    "    \n",
    "fig.suptitle(\"Average hand drawing for each digit from $0-9$\".title())\n",
    "fig.tight_layout()\n",
    "plt.show()"
   ]
  },
  {
   "cell_type": "markdown",
   "id": "5bbc20ee-7eaa-4949-b072-d34991f054f9",
   "metadata": {},
   "source": [
    "**Findings**:\n",
    "Once this is averaged out, we can see how most people in this dataset usually draws their digits. It's interesting to see that a lot of people draw a loop inside the `2`. For the digit number `1`, some people have the 1 slanted to the right and some have it slanted to the left.\n",
    "\n",
    "We can also look at how much variability comes with each digit by looking at how they are distributed in a boxplot. "
   ]
  },
  {
   "cell_type": "markdown",
   "id": "913d64e2",
   "metadata": {},
   "source": [
    "<a id='variation'></a>\n",
    "**2.2 Digit Variation**\n",
    "\n",
    "Using the mean pixels for each digit we calculated above, we can see how much variability there is for each image pixel from its mean expected digit label. We do this by working with the flattened version of our images (i.e. having shape 784 instead of 28x28). For each image and its expected label mean, we calculate the euclidean distance. \n",
    "\n",
    "First we need to get the mean pixels again for each digit as we did above. We can do this using list comprehension to calculate the mean value of the images for each digit."
   ]
  },
  {
   "cell_type": "code",
   "execution_count": 16,
   "id": "cb5de2f4",
   "metadata": {},
   "outputs": [
    {
     "data": {
      "text/plain": [
       "(10, 784)"
      ]
     },
     "execution_count": 16,
     "metadata": {},
     "output_type": "execute_result"
    }
   ],
   "source": [
    "# Mean pixel values for each digit\n",
    "mean_pixel = np.array([np.mean(X[y==target], axis=0) for target in range(10)])\n",
    "\n",
    "# Checking for the proper shape\n",
    "mean_pixel.shape"
   ]
  },
  {
   "cell_type": "markdown",
   "id": "7cb5378d",
   "metadata": {},
   "source": [
    "Then we need to create a dataframe that contains the digit for each image and the euclidean norm of the image from its mean value of that digit. To calculate the Euclidean distance, we use `np.linalg.norm()` in the NumPy package by subtracting our image array with the mean image array. "
   ]
  },
  {
   "cell_type": "code",
   "execution_count": 17,
   "id": "c9ea4472",
   "metadata": {},
   "outputs": [],
   "source": [
    "# Create a dictionary to store values that will be converted to a Pandas dataframe \n",
    "x = {'digit': [], 'norm': []}\n",
    "\n",
    "# Loop over all the images in our training set and store the image class as well as its Euclidean norm\n",
    "for image in range(len(X)):\n",
    "    \n",
    "    # Find image class\n",
    "    y_class = y[image]\n",
    "    \n",
    "    # Store image class\n",
    "    x['digit'].append(y_class)\n",
    "    \n",
    "    # Calculate and store Euclidean norm using np.linalg \n",
    "    x['norm'].append(np.linalg.norm(X.iloc[image] - mean_pixel[y_class]))"
   ]
  },
  {
   "cell_type": "markdown",
   "id": "3861bdf0",
   "metadata": {},
   "source": [
    "Now we can plot out our results using `seaborn`."
   ]
  },
  {
   "cell_type": "code",
   "execution_count": 18,
   "id": "a46d4141",
   "metadata": {},
   "outputs": [
    {
     "data": {
      "image/png": "[encoded data removed]",
      "text/plain": [
       "<Figure size 1000x500 with 1 Axes>"
      ]
     },
     "metadata": {},
     "output_type": "display_data"
    }
   ],
   "source": [
    "# Convert dictionary to dataframe\n",
    "digit_spread = pd.DataFrame(x)\n",
    "\n",
    "# Plot data as a boxplot\n",
    "plt.figure(figsize=(10,5))\n",
    "sns.boxplot(digit_spread, x='digit', y='norm', palette='Blues')\n",
    "plt.title(\"Euclidean norm of each image with its average pixel value per digit\".title())\n",
    "plt.xlabel(\"Digit\")\n",
    "plt.ylabel(\"Image pixel euclidean norm (L2)\".title())\n",
    "sns.despine()\n",
    "plt.show()"
   ]
  },
  {
   "cell_type": "markdown",
   "id": "59452f7e",
   "metadata": {},
   "source": [
    "**Findings**:\n",
    "Looking at our plot above, we see that a majority of the digits have relatively the same level of variation in the data set. Digit 1 overall has less variation in its pixel distance meaning it has less variability in how people write the digit 1. The most variation happens with digit 0 and digit 2. Notice how all digits have outliers, that is images that are very different from its average pixel values. "
   ]
  },
  {
   "cell_type": "markdown",
   "id": "45d30ee0",
   "metadata": {},
   "source": [
    "<a id='biggest'></a>\n",
    "**2.3 Biggest Variation**  \n",
    "\n",
    "Let's look at the image from each class with the biggest difference in euclidean distances.  "
   ]
  },
  {
   "cell_type": "code",
   "execution_count": 19,
   "id": "8817ec4b",
   "metadata": {},
   "outputs": [
    {
     "data": {
      "text/html": [
       "<div>\n",
       "<style scoped>\n",
       "    .dataframe tbody tr th:only-of-type {\n",
       "        vertical-align: middle;\n",
       "    }\n",
       "\n",
       "    .dataframe tbody tr th {\n",
       "        vertical-align: top;\n",
       "    }\n",
       "\n",
       "    .dataframe thead th {\n",
       "        text-align: right;\n",
       "    }\n",
       "</style>\n",
       "<table border=\"1\" class=\"dataframe\">\n",
       "  <thead>\n",
       "    <tr style=\"text-align: right;\">\n",
       "      <th></th>\n",
       "      <th>digit</th>\n",
       "      <th>norm</th>\n",
       "    </tr>\n",
       "  </thead>\n",
       "  <tbody>\n",
       "    <tr>\n",
       "      <th>0</th>\n",
       "      <td>1</td>\n",
       "      <td>1489.944236</td>\n",
       "    </tr>\n",
       "    <tr>\n",
       "      <th>1</th>\n",
       "      <td>0</td>\n",
       "      <td>1799.636117</td>\n",
       "    </tr>\n",
       "    <tr>\n",
       "      <th>2</th>\n",
       "      <td>1</td>\n",
       "      <td>1066.968260</td>\n",
       "    </tr>\n",
       "    <tr>\n",
       "      <th>3</th>\n",
       "      <td>4</td>\n",
       "      <td>1729.783236</td>\n",
       "    </tr>\n",
       "    <tr>\n",
       "      <th>4</th>\n",
       "      <td>0</td>\n",
       "      <td>1961.381124</td>\n",
       "    </tr>\n",
       "  </tbody>\n",
       "</table>\n",
       "</div>"
      ],
      "text/plain": [
       "   digit         norm\n",
       "0      1  1489.944236\n",
       "1      0  1799.636117\n",
       "2      1  1066.968260\n",
       "3      4  1729.783236\n",
       "4      0  1961.381124"
      ]
     },
     "execution_count": 19,
     "metadata": {},
     "output_type": "execute_result"
    }
   ],
   "source": [
    "# Check how values a displayed in our dataframe\n",
    "digit_spread.head()"
   ]
  },
  {
   "cell_type": "markdown",
   "id": "35e18a7f",
   "metadata": {},
   "source": [
    "We can use the `.groupby()` function to groupby our digits and then take the index with the highest norm for each digit class. "
   ]
  },
  {
   "cell_type": "code",
   "execution_count": 54,
   "id": "93255347",
   "metadata": {},
   "outputs": [
    {
     "data": {
      "text/plain": [
       "array([ 8062, 27122, 40976, 11593, 31608, 35583, 15160, 12130,  3705,\n",
       "       40354])"
      ]
     },
     "execution_count": 54,
     "metadata": {},
     "output_type": "execute_result"
    }
   ],
   "source": [
    "# Groupby digit and take the index that has the highest norm value \n",
    "index = digit_spread.groupby('digit')['norm'].idxmax().values\n",
    "\n",
    "index"
   ]
  },
  {
   "cell_type": "markdown",
   "id": "9744019c",
   "metadata": {},
   "source": [
    "Since our indices follow the same ordering as our original training set, we can use them to plot out the images that have the highest norm in our calculation. "
   ]
  },
  {
   "cell_type": "code",
   "execution_count": 83,
   "id": "f1a6eaec",
   "metadata": {},
   "outputs": [
    {
     "data": {
      "image/png": "[encoded data removed]",
      "text/plain": [
       "<Figure size 800x500 with 10 Axes>"
      ]
     },
     "metadata": {},
     "output_type": "display_data"
    }
   ],
   "source": [
    "# Plot the images that have the biggest norm in our data set for each digit\n",
    "fig, axes = plt.subplots(nrows=2, ncols=5, figsize=(8,5), sharex=True, sharey=True)\n",
    "\n",
    "for i, ax in zip(range(len(index)), axes.ravel()):\n",
    "    ax.imshow(images[index[i]], cmap='gray_r')\n",
    "    ax.set_title(digit_spread['digit'].iloc[index[i]])\n",
    "fig.suptitle(\"Images with the biggest variation from its mean\".title())\n",
    "fig.tight_layout()"
   ]
  },
  {
   "cell_type": "markdown",
   "id": "5afe33bc",
   "metadata": {},
   "source": [
    "**Insights**:\n",
    "Looking at these images above we see that it is indeed really difficult to classify them into their respective classes. For example, the digit 0 almost does not look like a zero given the extra marking at the top of the number. Digit 3 also does not have the distinctive spaces in the middle making it hard to interpret. "
   ]
  },
  {
   "cell_type": "markdown",
   "id": "603b755b",
   "metadata": {},
   "source": [
    "<a id='distribution'></a>\n",
    "**2.4 Class Distribution**\n",
    "\n",
    "Let's look at the distribution of our class labels to see if we have any major data imbalances. Our class labels range from $0$ to $9$.\n",
    "\n",
    ">**Note**: Since this is multiclass classification, **we will always have data imbalance** since we are comparing one class to all the other classes at a time. \n",
    "\n",
    "We can look at the class distribution using `.value_counts()` and `.plot()` for Pandas dataframes. "
   ]
  },
  {
   "cell_type": "code",
   "execution_count": 89,
   "id": "2717f97d-79d9-4275-9eb7-77f2546510fe",
   "metadata": {},
   "outputs": [
    {
     "data": {
      "image/png": "[encoded data removed]",
      "text/plain": [
       "<Figure size 600x400 with 1 Axes>"
      ]
     },
     "metadata": {},
     "output_type": "display_data"
    }
   ],
   "source": [
    "# Plotting our target label distribution frequency from our training data set\n",
    "plt.figure(figsize=(6,4))\n",
    "y.value_counts().sort_index(ascending=True).plot(kind='bar')\n",
    "plt.title(\"MNIST Data Set Class Distribution\")\n",
    "plt.xlabel(\"Numerical Digits\")\n",
    "plt.ylabel(\"Frequency\")\n",
    "plt.xticks(rotation=0)\n",
    "sns.despine()\n",
    "plt.show()"
   ]
  },
  {
   "cell_type": "markdown",
   "id": "dcfeb2fb",
   "metadata": {},
   "source": [
    "**Findings**:  \n",
    "Looking at our class distribution above we see that each class seems to have a relatively similar number of appearances. Class 1 appears to have the highest overall frequency while class 5 appears to have the lowest. Note that class imbalance is still present because we are working with multiclass classification, meaning we are comparing one class label to the rest of the other labels at a time. "
   ]
  },
  {
   "cell_type": "markdown",
   "id": "c66a6bf0-dfdd-457e-a151-bf8c72680d40",
   "metadata": {},
   "source": [
    "<a id='base'></a>\n",
    "### 3. Baseline Modelling\n",
    "\n",
    "---\n",
    "    \n",
    "1. Create test and validation set with train_test_split()\n",
    "2. Fit basic Logistic Regression Model\n",
    "3. Evaluate Metrics"
   ]
  },
  {
   "cell_type": "code",
   "execution_count": 90,
   "id": "05e1092c-cdc6-4ad6-9522-6ca1ddf301ce",
   "metadata": {
    "tags": []
   },
   "outputs": [],
   "source": [
    "# Creating test and validation sets\n",
    "X_train, X_val, y_train, y_val = train_test_split(X, y, test_size=0.25, stratify=y)"
   ]
  },
  {
   "cell_type": "code",
   "execution_count": 91,
   "id": "c13e0cda-6cc5-44d4-9b75-538a0583f112",
   "metadata": {
    "tags": []
   },
   "outputs": [
    {
     "data": {
      "text/plain": [
       "((31500, 784), (31500,))"
      ]
     },
     "execution_count": 91,
     "metadata": {},
     "output_type": "execute_result"
    }
   ],
   "source": [
    "X_train.shape, y_train.shape"
   ]
  },
  {
   "cell_type": "markdown",
   "id": "2d733d9e-e74c-4388-be98-c845fe10e225",
   "metadata": {},
   "source": [
    "Making the pre-trained Logistic Regression model that will be used for making predictions."
   ]
  },
  {
   "cell_type": "code",
   "execution_count": 92,
   "id": "65b840dc-ab03-486f-8dc6-875c2a77de47",
   "metadata": {
    "tags": []
   },
   "outputs": [
    {
     "data": {
      "text/html": [
       "<style>#sk-container-id-1 {color: black;}#sk-container-id-1 pre{padding: 0;}#sk-container-id-1 div.sk-toggleable {background-color: white;}#sk-container-id-1 label.sk-toggleable__label {cursor: pointer;display: block;width: 100%;margin-bottom: 0;padding: 0.3em;box-sizing: border-box;text-align: center;}#sk-container-id-1 label.sk-toggleable__label-arrow:before {content: \"▸\";float: left;margin-right: 0.25em;color: #696969;}#sk-container-id-1 label.sk-toggleable__label-arrow:hover:before {color: black;}#sk-container-id-1 div.sk-estimator:hover label.sk-toggleable__label-arrow:before {color: black;}#sk-container-id-1 div.sk-toggleable__content {max-height: 0;max-width: 0;overflow: hidden;text-align: left;background-color: #f0f8ff;}#sk-container-id-1 div.sk-toggleable__content pre {margin: 0.2em;color: black;border-radius: 0.25em;background-color: #f0f8ff;}#sk-container-id-1 input.sk-toggleable__control:checked~div.sk-toggleable__content {max-height: 200px;max-width: 100%;overflow: auto;}#sk-container-id-1 input.sk-toggleable__control:checked~label.sk-toggleable__label-arrow:before {content: \"▾\";}#sk-container-id-1 div.sk-estimator input.sk-toggleable__control:checked~label.sk-toggleable__label {background-color: #d4ebff;}#sk-container-id-1 div.sk-label input.sk-toggleable__control:checked~label.sk-toggleable__label {background-color: #d4ebff;}#sk-container-id-1 input.sk-hidden--visually {border: 0;clip: rect(1px 1px 1px 1px);clip: rect(1px, 1px, 1px, 1px);height: 1px;margin: -1px;overflow: hidden;padding: 0;position: absolute;width: 1px;}#sk-container-id-1 div.sk-estimator {font-family: monospace;background-color: #f0f8ff;border: 1px dotted black;border-radius: 0.25em;box-sizing: border-box;margin-bottom: 0.5em;}#sk-container-id-1 div.sk-estimator:hover {background-color: #d4ebff;}#sk-container-id-1 div.sk-parallel-item::after {content: \"\";width: 100%;border-bottom: 1px solid gray;flex-grow: 1;}#sk-container-id-1 div.sk-label:hover label.sk-toggleable__label {background-color: #d4ebff;}#sk-container-id-1 div.sk-serial::before {content: \"\";position: absolute;border-left: 1px solid gray;box-sizing: border-box;top: 0;bottom: 0;left: 50%;z-index: 0;}#sk-container-id-1 div.sk-serial {display: flex;flex-direction: column;align-items: center;background-color: white;padding-right: 0.2em;padding-left: 0.2em;position: relative;}#sk-container-id-1 div.sk-item {position: relative;z-index: 1;}#sk-container-id-1 div.sk-parallel {display: flex;align-items: stretch;justify-content: center;background-color: white;position: relative;}#sk-container-id-1 div.sk-item::before, #sk-container-id-1 div.sk-parallel-item::before {content: \"\";position: absolute;border-left: 1px solid gray;box-sizing: border-box;top: 0;bottom: 0;left: 50%;z-index: -1;}#sk-container-id-1 div.sk-parallel-item {display: flex;flex-direction: column;z-index: 1;position: relative;background-color: white;}#sk-container-id-1 div.sk-parallel-item:first-child::after {align-self: flex-end;width: 50%;}#sk-container-id-1 div.sk-parallel-item:last-child::after {align-self: flex-start;width: 50%;}#sk-container-id-1 div.sk-parallel-item:only-child::after {width: 0;}#sk-container-id-1 div.sk-dashed-wrapped {border: 1px dashed gray;margin: 0 0.4em 0.5em 0.4em;box-sizing: border-box;padding-bottom: 0.4em;background-color: white;}#sk-container-id-1 div.sk-label label {font-family: monospace;font-weight: bold;display: inline-block;line-height: 1.2em;}#sk-container-id-1 div.sk-label-container {text-align: center;}#sk-container-id-1 div.sk-container {/* jupyter's `normalize.less` sets `[hidden] { display: none; }` but bootstrap.min.css set `[hidden] { display: none !important; }` so we also need the `!important` here to be able to override the default hidden behavior on the sphinx rendered scikit-learn.org. See: https://github.com/scikit-learn/scikit-learn/issues/21755 */display: inline-block !important;position: relative;}#sk-container-id-1 div.sk-text-repr-fallback {display: none;}</style><div id=\"sk-container-id-1\" class=\"sk-top-container\"><div class=\"sk-text-repr-fallback\"><pre>LogisticRegression()</pre><b>In a Jupyter environment, please rerun this cell to show the HTML representation or trust the notebook. <br />On GitHub, the HTML representation is unable to render, please try loading this page with nbviewer.org.</b></div><div class=\"sk-container\" hidden><div class=\"sk-item\"><div class=\"sk-estimator sk-toggleable\"><input class=\"sk-toggleable__control sk-hidden--visually\" id=\"sk-estimator-id-1\" type=\"checkbox\" checked><label for=\"sk-estimator-id-1\" class=\"sk-toggleable__label sk-toggleable__label-arrow\">LogisticRegression</label><div class=\"sk-toggleable__content\"><pre>LogisticRegression()</pre></div></div></div></div></div>"
      ],
      "text/plain": [
       "LogisticRegression()"
      ]
     },
     "execution_count": 92,
     "metadata": {},
     "output_type": "execute_result"
    }
   ],
   "source": [
    "base_logreg = LogisticRegression()\n",
    "base_logreg.fit(X_train, y_train)"
   ]
  },
  {
   "cell_type": "code",
   "execution_count": 93,
   "id": "38a76b71-202f-4124-8a41-21efeeb15cba",
   "metadata": {
    "tags": []
   },
   "outputs": [
    {
     "name": "stdout",
     "output_type": "stream",
     "text": [
      " Train_Accuracy: 0.9418730158730159, Val_Accuracy: 0.9174285714285715\n"
     ]
    }
   ],
   "source": [
    "print(f' Train_Accuracy: {base_logreg.score(X_train, y_train)}, Val_Accuracy: {base_logreg.score(X_val, y_val)}')"
   ]
  },
  {
   "cell_type": "markdown",
   "id": "d17e6334-9988-4607-803d-4882773b6673",
   "metadata": {},
   "source": [
    "With just the base logistic regression we are getting a very high train and validation accuracy with a small overfit in the training set. Let's look at a confusion matrix to measure how well our model is classifying each digit."
   ]
  },
  {
   "cell_type": "code",
   "execution_count": 94,
   "id": "29dd7990-e6af-4d67-ab1b-ef32123ee187",
   "metadata": {
    "tags": []
   },
   "outputs": [
    {
     "data": {
      "image/png": "[encoded data removed]",
      "text/plain": [
       "<Figure size 1000x1000 with 2 Axes>"
      ]
     },
     "metadata": {},
     "output_type": "display_data"
    }
   ],
   "source": [
    "# Get predictions of validation set from model\n",
    "y_pred = base_logreg.predict(X_val)\n",
    "\n",
    "# Setup confusion matrix\n",
    "cm = confusion_matrix(y_val, y_pred)\n",
    "\n",
    "plt.figure(figsize=(10, 10))\n",
    "\n",
    "# Displays the confusion matrix\n",
    "cf_disp = ConfusionMatrixDisplay(\n",
    "    confusion_matrix=cm,\n",
    "    display_labels=base_logreg.classes_\n",
    ")\n",
    "\n",
    "cf_disp.plot(ax=plt.gca()) # .gca = get current axis as the axis\n",
    "plt.show()"
   ]
  },
  {
   "cell_type": "markdown",
   "id": "623ab204-086d-4d7a-8701-58b554be9428",
   "metadata": {
    "tags": []
   },
   "source": [
    "#### Classification Report\n",
    "The classification report provides a detailed evaluation of the model's performance on each class, along with overall metrics."
   ]
  },
  {
   "cell_type": "code",
   "execution_count": 95,
   "id": "6821788c-f559-4e6b-91af-5c2e3ff7ae62",
   "metadata": {
    "tags": []
   },
   "outputs": [
    {
     "name": "stdout",
     "output_type": "stream",
     "text": [
      "              precision    recall  f1-score   support\n",
      "\n",
      "           0       0.95      0.96      0.96      1033\n",
      "           1       0.95      0.98      0.96      1171\n",
      "           2       0.91      0.89      0.90      1044\n",
      "           3       0.90      0.89      0.89      1088\n",
      "           4       0.93      0.93      0.93      1018\n",
      "           5       0.88      0.85      0.87       949\n",
      "           6       0.95      0.94      0.95      1034\n",
      "           7       0.93      0.94      0.94      1100\n",
      "           8       0.87      0.89      0.88      1016\n",
      "           9       0.90      0.89      0.89      1047\n",
      "\n",
      "    accuracy                           0.92     10500\n",
      "   macro avg       0.92      0.92      0.92     10500\n",
      "weighted avg       0.92      0.92      0.92     10500\n",
      "\n"
     ]
    }
   ],
   "source": [
    "base_report = classification_report(y_val, y_pred)\n",
    "print(base_report)"
   ]
  },
  {
   "cell_type": "markdown",
   "id": "dcdefd19-a663-4bfc-a31b-b486b9084dec",
   "metadata": {},
   "source": [
    "The overall accuracy of the model on the test set is 91%. With F1-scores ranging from 0.86 to 0.97, the model shows a balance between precision and recall for most classes."
   ]
  },
  {
   "cell_type": "markdown",
   "id": "7081e7d1-98e9-4fd6-abf1-ec20ca6ed00b",
   "metadata": {},
   "source": [
    "<a id='predictions'></a>\n",
    "### 4. Generating Predictions for Test Set using Logistic Regression\n",
    "---"
   ]
  },
  {
   "cell_type": "markdown",
   "id": "2c26020c-3029-496b-b062-77d31acf6226",
   "metadata": {},
   "source": [
    "In this process, we aim to generate predictions for the test set using our baseline model along with the test_data.csv file and our logistic regression model. This will allow us to evaluate the model's effectiveness in making accurate predictions on unseen data."
   ]
  },
  {
   "cell_type": "code",
   "execution_count": 96,
   "id": "0ddd54cc-e3ff-428e-9d39-49474ef97536",
   "metadata": {},
   "outputs": [
    {
     "data": {
      "text/plain": [
       "(28000, 784)"
      ]
     },
     "execution_count": 96,
     "metadata": {},
     "output_type": "execute_result"
    }
   ],
   "source": [
    "df_test.shape "
   ]
  },
  {
   "cell_type": "markdown",
   "id": "ee3ce9c6-8670-411f-aadb-e3d158a454dd",
   "metadata": {},
   "source": [
    "We initialize an index range starting from 1 up to the number of rows in df_test, representing the image IDs for our predictions."
   ]
  },
  {
   "cell_type": "code",
   "execution_count": 97,
   "id": "ebde5986-5849-402b-bf79-81303ba336ca",
   "metadata": {},
   "outputs": [],
   "source": [
    "index = range(1, df_test.shape[0] + 1)"
   ]
  },
  {
   "cell_type": "markdown",
   "id": "0a07d2ff-1e45-4c18-b5b7-cb028cabf37d",
   "metadata": {},
   "source": [
    "We create a new DataFrame logreg_prediction containing the predicted labels generated by the logistic regression model `base_logreg` for the test data `df_test`. We assign 'ImageId' to the index column, so that it represents the IDs of the images."
   ]
  },
  {
   "cell_type": "code",
   "execution_count": 98,
   "id": "c8c6ccae-5ba1-49e0-80e7-e8d738a26d84",
   "metadata": {},
   "outputs": [],
   "source": [
    "logreg_prediction = pd.DataFrame({'Label':base_logreg.predict(df_test)}, index=index)\n",
    "logreg_prediction.index.name = 'ImageId'"
   ]
  },
  {
   "cell_type": "code",
   "execution_count": 99,
   "id": "eeb37270-debf-41a8-a81d-438fc4dcf0a4",
   "metadata": {},
   "outputs": [
    {
     "data": {
      "text/html": [
       "<div>\n",
       "<style scoped>\n",
       "    .dataframe tbody tr th:only-of-type {\n",
       "        vertical-align: middle;\n",
       "    }\n",
       "\n",
       "    .dataframe tbody tr th {\n",
       "        vertical-align: top;\n",
       "    }\n",
       "\n",
       "    .dataframe thead th {\n",
       "        text-align: right;\n",
       "    }\n",
       "</style>\n",
       "<table border=\"1\" class=\"dataframe\">\n",
       "  <thead>\n",
       "    <tr style=\"text-align: right;\">\n",
       "      <th></th>\n",
       "      <th>Label</th>\n",
       "    </tr>\n",
       "    <tr>\n",
       "      <th>ImageId</th>\n",
       "      <th></th>\n",
       "    </tr>\n",
       "  </thead>\n",
       "  <tbody>\n",
       "    <tr>\n",
       "      <th>1</th>\n",
       "      <td>2</td>\n",
       "    </tr>\n",
       "    <tr>\n",
       "      <th>2</th>\n",
       "      <td>0</td>\n",
       "    </tr>\n",
       "    <tr>\n",
       "      <th>3</th>\n",
       "      <td>9</td>\n",
       "    </tr>\n",
       "    <tr>\n",
       "      <th>4</th>\n",
       "      <td>7</td>\n",
       "    </tr>\n",
       "    <tr>\n",
       "      <th>5</th>\n",
       "      <td>3</td>\n",
       "    </tr>\n",
       "    <tr>\n",
       "      <th>...</th>\n",
       "      <td>...</td>\n",
       "    </tr>\n",
       "    <tr>\n",
       "      <th>27996</th>\n",
       "      <td>9</td>\n",
       "    </tr>\n",
       "    <tr>\n",
       "      <th>27997</th>\n",
       "      <td>7</td>\n",
       "    </tr>\n",
       "    <tr>\n",
       "      <th>27998</th>\n",
       "      <td>3</td>\n",
       "    </tr>\n",
       "    <tr>\n",
       "      <th>27999</th>\n",
       "      <td>9</td>\n",
       "    </tr>\n",
       "    <tr>\n",
       "      <th>28000</th>\n",
       "      <td>2</td>\n",
       "    </tr>\n",
       "  </tbody>\n",
       "</table>\n",
       "<p>28000 rows × 1 columns</p>\n",
       "</div>"
      ],
      "text/plain": [
       "         Label\n",
       "ImageId       \n",
       "1            2\n",
       "2            0\n",
       "3            9\n",
       "4            7\n",
       "5            3\n",
       "...        ...\n",
       "27996        9\n",
       "27997        7\n",
       "27998        3\n",
       "27999        9\n",
       "28000        2\n",
       "\n",
       "[28000 rows x 1 columns]"
      ]
     },
     "execution_count": 99,
     "metadata": {},
     "output_type": "execute_result"
    }
   ],
   "source": [
    "logreg_prediction"
   ]
  },
  {
   "cell_type": "markdown",
   "id": "3cb41c8d-5cd3-4092-b41d-02098257b608",
   "metadata": {},
   "source": [
    "We've succesfully created our prediction DataFrame, now we can save this as a csv to submit and receive our score."
   ]
  },
  {
   "cell_type": "code",
   "execution_count": 30,
   "id": "34bca430-895c-49b5-b2ca-188179d73fd6",
   "metadata": {
    "tags": []
   },
   "outputs": [],
   "source": [
    "# logreg_prediction.to_csv('../logreg_prediction.csv')"
   ]
  },
  {
   "cell_type": "markdown",
   "id": "02302900-f8be-4ad2-8976-5343e3c429c2",
   "metadata": {},
   "source": [
    "After submission, we received a score of 0.91617!"
   ]
  },
  {
   "cell_type": "markdown",
   "id": "604cc22d-383b-4752-8d0a-59f7663bfe01",
   "metadata": {},
   "source": [
    "<a id='conclusion'></a>\n",
    "### 5. Conclusion\n",
    "\n",
    "From our Logistic Regression baseline model, we can conclude that accuracy scores can be pretty high for this data set given that our baseline accuracy is at $91\\%$. Next, we will create a model using Support Vector Machines (SVMs) as well as a simple neural network using PyTorch. "
   ]
  },
  {
   "cell_type": "markdown",
   "id": "68de4f69-7e4e-4dbe-ae60-bae7952f150e",
   "metadata": {},
   "source": [
    "### References\n",
    "\n",
    "- [Kaggle Digit Recognizer Submissions](https://www.kaggle.com/competitions/digit-recognizer/submissions)"
   ]
  },
  {
   "cell_type": "code",
   "execution_count": null,
   "id": "a6517109-84a0-4904-ba4e-3887ebe9c619",
   "metadata": {},
   "outputs": [],
   "source": []
  },
  {
   "cell_type": "code",
   "execution_count": null,
   "id": "52ffeeff",
   "metadata": {},
   "outputs": [],
   "source": []
  },
  {
   "cell_type": "code",
   "execution_count": null,
   "id": "bedc419b",
   "metadata": {},
   "outputs": [],
   "source": []
  }
 ],
 "metadata": {
  "kernelspec": {
   "display_name": "Python 3 (ipykernel)",
   "language": "python",
   "name": "python3"
  },
  "language_info": {
   "codemirror_mode": {
    "name": "ipython",
    "version": 3
   },
   "file_extension": ".py",
   "mimetype": "text/x-python",
   "name": "python",
   "nbconvert_exporter": "python",
   "pygments_lexer": "ipython3",
   "version": "3.8.15"
  }
 },
 "nbformat": 4,
 "nbformat_minor": 5
}
